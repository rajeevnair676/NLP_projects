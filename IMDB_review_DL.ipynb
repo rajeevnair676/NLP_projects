{
  "nbformat": 4,
  "nbformat_minor": 0,
  "metadata": {
    "colab": {
      "name": "IMDB_review_DL.ipynb",
      "provenance": [],
      "collapsed_sections": [],
      "mount_file_id": "1w5wLoe2Cy_TnfgKJM3YT7XL02_-STz6l",
      "authorship_tag": "ABX9TyPUz2GuzBcTZv6CC0NdSCjh"
    },
    "kernelspec": {
      "name": "python3",
      "display_name": "Python 3"
    },
    "language_info": {
      "name": "python"
    },
    "accelerator": "GPU",
    "gpuClass": "standard"
  },
  "cells": [
    {
      "cell_type": "code",
      "execution_count": 51,
      "metadata": {
        "id": "NigL3toLE1Tl"
      },
      "outputs": [],
      "source": [
        "import pandas as pd\n",
        "import numpy as np\n",
        "import tensorflow as tf\n",
        "import nltk\n",
        "import re\n",
        "import os\n",
        "\n",
        "from sklearn.model_selection import train_test_split\n",
        "from sklearn.preprocessing import LabelBinarizer\n",
        "from sklearn.metrics import accuracy_score,classification_report,roc_auc_score\n",
        "\n",
        "from keras.preprocessing.text import Tokenizer\n",
        "from keras.preprocessing.sequence import pad_sequences\n",
        "from keras.layers import SimpleRNN,LSTM,GRU,Embedding,Dense\n",
        "from keras.models import Sequential,load_model"
      ]
    },
    {
      "cell_type": "code",
      "source": [
        "from nltk.corpus import stopwords\n",
        "nltk.download('stopwords')"
      ],
      "metadata": {
        "colab": {
          "base_uri": "https://localhost:8080/"
        },
        "id": "QVMVuSXpGYQ5",
        "outputId": "d20d9697-2c6a-493b-d20b-be9c3146dd92"
      },
      "execution_count": 3,
      "outputs": [
        {
          "output_type": "stream",
          "name": "stderr",
          "text": [
            "[nltk_data] Downloading package stopwords to /root/nltk_data...\n",
            "[nltk_data]   Unzipping corpora/stopwords.zip.\n"
          ]
        },
        {
          "output_type": "execute_result",
          "data": {
            "text/plain": [
              "True"
            ]
          },
          "metadata": {},
          "execution_count": 3
        }
      ]
    },
    {
      "cell_type": "code",
      "source": [
        "stop_words = set(stopwords.words('english'))"
      ],
      "metadata": {
        "id": "SwG_NKuxGhYO"
      },
      "execution_count": 4,
      "outputs": []
    },
    {
      "cell_type": "code",
      "source": [
        "PATH = '/content/drive/MyDrive/NLP/NLP_projects/Classification/'"
      ],
      "metadata": {
        "id": "0BOlClpXFaaY"
      },
      "execution_count": 50,
      "outputs": []
    },
    {
      "cell_type": "code",
      "source": [
        "def load_data(path):\n",
        "    df = pd.read_csv(path)\n",
        "    X_train, X_test, y_train, y_test = train_test_split(df['review'], df['sentiment'], stratify=df['sentiment'],\n",
        "                                                    test_size=0.33,\n",
        "                                                    shuffle=True, \n",
        "                                                    random_state=42)\n",
        "    train = pd.concat([X_train,y_train],axis=1)\n",
        "    test = pd.concat([X_test,y_test],axis=1)\n",
        "    return train,test"
      ],
      "metadata": {
        "id": "tVTDskVdFPLZ"
      },
      "execution_count": 6,
      "outputs": []
    },
    {
      "cell_type": "code",
      "source": [
        "train,test=load_data(PATH)"
      ],
      "metadata": {
        "id": "OA8pKhlPGAyE"
      },
      "execution_count": 7,
      "outputs": []
    },
    {
      "cell_type": "code",
      "source": [
        "train.head()"
      ],
      "metadata": {
        "colab": {
          "base_uri": "https://localhost:8080/",
          "height": 206
        },
        "id": "zYVwJY2LGD1u",
        "outputId": "8277d581-fee9-4537-de39-7b1ad258e550"
      },
      "execution_count": 8,
      "outputs": [
        {
          "output_type": "execute_result",
          "data": {
            "text/plain": [
              "                                                  review sentiment\n",
              "44272  Sure, it had some of the makings of a good fil...  negative\n",
              "33427  This mini-series is iconic of the Australian s...  positive\n",
              "36331  When you see the cover of the DVD you're convi...  positive\n",
              "25718  When I saw this \"documentary\", I was disappoin...  negative\n",
              "40140  Abysmal Indonesian action film from legendary ...  negative"
            ],
            "text/html": [
              "\n",
              "  <div id=\"df-d939f450-f07b-42ab-847d-ec32124a0a03\">\n",
              "    <div class=\"colab-df-container\">\n",
              "      <div>\n",
              "<style scoped>\n",
              "    .dataframe tbody tr th:only-of-type {\n",
              "        vertical-align: middle;\n",
              "    }\n",
              "\n",
              "    .dataframe tbody tr th {\n",
              "        vertical-align: top;\n",
              "    }\n",
              "\n",
              "    .dataframe thead th {\n",
              "        text-align: right;\n",
              "    }\n",
              "</style>\n",
              "<table border=\"1\" class=\"dataframe\">\n",
              "  <thead>\n",
              "    <tr style=\"text-align: right;\">\n",
              "      <th></th>\n",
              "      <th>review</th>\n",
              "      <th>sentiment</th>\n",
              "    </tr>\n",
              "  </thead>\n",
              "  <tbody>\n",
              "    <tr>\n",
              "      <th>44272</th>\n",
              "      <td>Sure, it had some of the makings of a good fil...</td>\n",
              "      <td>negative</td>\n",
              "    </tr>\n",
              "    <tr>\n",
              "      <th>33427</th>\n",
              "      <td>This mini-series is iconic of the Australian s...</td>\n",
              "      <td>positive</td>\n",
              "    </tr>\n",
              "    <tr>\n",
              "      <th>36331</th>\n",
              "      <td>When you see the cover of the DVD you're convi...</td>\n",
              "      <td>positive</td>\n",
              "    </tr>\n",
              "    <tr>\n",
              "      <th>25718</th>\n",
              "      <td>When I saw this \"documentary\", I was disappoin...</td>\n",
              "      <td>negative</td>\n",
              "    </tr>\n",
              "    <tr>\n",
              "      <th>40140</th>\n",
              "      <td>Abysmal Indonesian action film from legendary ...</td>\n",
              "      <td>negative</td>\n",
              "    </tr>\n",
              "  </tbody>\n",
              "</table>\n",
              "</div>\n",
              "      <button class=\"colab-df-convert\" onclick=\"convertToInteractive('df-d939f450-f07b-42ab-847d-ec32124a0a03')\"\n",
              "              title=\"Convert this dataframe to an interactive table.\"\n",
              "              style=\"display:none;\">\n",
              "        \n",
              "  <svg xmlns=\"http://www.w3.org/2000/svg\" height=\"24px\"viewBox=\"0 0 24 24\"\n",
              "       width=\"24px\">\n",
              "    <path d=\"M0 0h24v24H0V0z\" fill=\"none\"/>\n",
              "    <path d=\"M18.56 5.44l.94 2.06.94-2.06 2.06-.94-2.06-.94-.94-2.06-.94 2.06-2.06.94zm-11 1L8.5 8.5l.94-2.06 2.06-.94-2.06-.94L8.5 2.5l-.94 2.06-2.06.94zm10 10l.94 2.06.94-2.06 2.06-.94-2.06-.94-.94-2.06-.94 2.06-2.06.94z\"/><path d=\"M17.41 7.96l-1.37-1.37c-.4-.4-.92-.59-1.43-.59-.52 0-1.04.2-1.43.59L10.3 9.45l-7.72 7.72c-.78.78-.78 2.05 0 2.83L4 21.41c.39.39.9.59 1.41.59.51 0 1.02-.2 1.41-.59l7.78-7.78 2.81-2.81c.8-.78.8-2.07 0-2.86zM5.41 20L4 18.59l7.72-7.72 1.47 1.35L5.41 20z\"/>\n",
              "  </svg>\n",
              "      </button>\n",
              "      \n",
              "  <style>\n",
              "    .colab-df-container {\n",
              "      display:flex;\n",
              "      flex-wrap:wrap;\n",
              "      gap: 12px;\n",
              "    }\n",
              "\n",
              "    .colab-df-convert {\n",
              "      background-color: #E8F0FE;\n",
              "      border: none;\n",
              "      border-radius: 50%;\n",
              "      cursor: pointer;\n",
              "      display: none;\n",
              "      fill: #1967D2;\n",
              "      height: 32px;\n",
              "      padding: 0 0 0 0;\n",
              "      width: 32px;\n",
              "    }\n",
              "\n",
              "    .colab-df-convert:hover {\n",
              "      background-color: #E2EBFA;\n",
              "      box-shadow: 0px 1px 2px rgba(60, 64, 67, 0.3), 0px 1px 3px 1px rgba(60, 64, 67, 0.15);\n",
              "      fill: #174EA6;\n",
              "    }\n",
              "\n",
              "    [theme=dark] .colab-df-convert {\n",
              "      background-color: #3B4455;\n",
              "      fill: #D2E3FC;\n",
              "    }\n",
              "\n",
              "    [theme=dark] .colab-df-convert:hover {\n",
              "      background-color: #434B5C;\n",
              "      box-shadow: 0px 1px 3px 1px rgba(0, 0, 0, 0.15);\n",
              "      filter: drop-shadow(0px 1px 2px rgba(0, 0, 0, 0.3));\n",
              "      fill: #FFFFFF;\n",
              "    }\n",
              "  </style>\n",
              "\n",
              "      <script>\n",
              "        const buttonEl =\n",
              "          document.querySelector('#df-d939f450-f07b-42ab-847d-ec32124a0a03 button.colab-df-convert');\n",
              "        buttonEl.style.display =\n",
              "          google.colab.kernel.accessAllowed ? 'block' : 'none';\n",
              "\n",
              "        async function convertToInteractive(key) {\n",
              "          const element = document.querySelector('#df-d939f450-f07b-42ab-847d-ec32124a0a03');\n",
              "          const dataTable =\n",
              "            await google.colab.kernel.invokeFunction('convertToInteractive',\n",
              "                                                     [key], {});\n",
              "          if (!dataTable) return;\n",
              "\n",
              "          const docLinkHtml = 'Like what you see? Visit the ' +\n",
              "            '<a target=\"_blank\" href=https://colab.research.google.com/notebooks/data_table.ipynb>data table notebook</a>'\n",
              "            + ' to learn more about interactive tables.';\n",
              "          element.innerHTML = '';\n",
              "          dataTable['output_type'] = 'display_data';\n",
              "          await google.colab.output.renderOutput(dataTable, element);\n",
              "          const docLink = document.createElement('div');\n",
              "          docLink.innerHTML = docLinkHtml;\n",
              "          element.appendChild(docLink);\n",
              "        }\n",
              "      </script>\n",
              "    </div>\n",
              "  </div>\n",
              "  "
            ]
          },
          "metadata": {},
          "execution_count": 8
        }
      ]
    },
    {
      "cell_type": "code",
      "source": [
        "def clean_text(text):\n",
        "    text = text.lower()\n",
        "    text = re.sub(r'<br />',' ',text)\n",
        "    text = re.sub(r'[^A-Za-z0-9]',' ',text)\n",
        "    text = ' '.join(word for word in text.split() if word not in stop_words)\n",
        "    return text"
      ],
      "metadata": {
        "id": "djW6qHHHGGno"
      },
      "execution_count": 9,
      "outputs": []
    },
    {
      "cell_type": "code",
      "source": [
        "train['cleaned_review']=train.review.apply(lambda s:clean_text(s))\n",
        "test['cleaned_review']=test.review.apply(lambda s:clean_text(s))"
      ],
      "metadata": {
        "id": "NPiSTX3WGl9z"
      },
      "execution_count": 10,
      "outputs": []
    },
    {
      "cell_type": "code",
      "source": [
        "lb=LabelBinarizer()\n",
        "train['sentiment']=lb.fit_transform(train['sentiment'])\n",
        "test['sentiment']=lb.transform(test['sentiment'])"
      ],
      "metadata": {
        "id": "ZRedAaDQG0QJ"
      },
      "execution_count": 11,
      "outputs": []
    },
    {
      "cell_type": "code",
      "source": [
        "X_train, X_val, y_train, y_val = train_test_split(train['cleaned_review'], train['sentiment'],\n",
        "                                                  stratify=train['sentiment'],\n",
        "                                                  test_size=0.2,\n",
        "                                                  random_state=333)"
      ],
      "metadata": {
        "id": "zK6RIU4MHHVz"
      },
      "execution_count": 12,
      "outputs": []
    },
    {
      "cell_type": "markdown",
      "source": [
        "## <b> Keras Preprocessing and Tokenization"
      ],
      "metadata": {
        "id": "dXrOlft2HknG"
      }
    },
    {
      "cell_type": "code",
      "source": [
        "max_len = train['cleaned_review'].apply(lambda s: len(str(s).split())).max()"
      ],
      "metadata": {
        "id": "oBoEvFIuHkAX"
      },
      "execution_count": 13,
      "outputs": []
    },
    {
      "cell_type": "code",
      "source": [
        "tokenizer=Tokenizer() #num_words=None)"
      ],
      "metadata": {
        "id": "Va0rhcCtLzsa"
      },
      "execution_count": 14,
      "outputs": []
    },
    {
      "cell_type": "code",
      "source": [
        "tokenizer.fit_on_texts(list(X_train)+list(X_val))"
      ],
      "metadata": {
        "id": "rKfvz22qJgI6"
      },
      "execution_count": 15,
      "outputs": []
    },
    {
      "cell_type": "code",
      "source": [
        "tokenizer.fit_on_texts(list(test['cleaned_review']))"
      ],
      "metadata": {
        "id": "6P6NKCbRVTrz"
      },
      "execution_count": 57,
      "outputs": []
    },
    {
      "cell_type": "code",
      "source": [
        "X_train_seq = tokenizer.texts_to_sequences(X_train)\n",
        "X_val_seq = tokenizer.texts_to_sequences(X_val)"
      ],
      "metadata": {
        "id": "fqpxQgO7LIZU"
      },
      "execution_count": 16,
      "outputs": []
    },
    {
      "cell_type": "code",
      "source": [
        "X_test_seq = tokenizer.texts_to_sequences(test['cleaned_review'])"
      ],
      "metadata": {
        "id": "laZ4BMvgVmqy"
      },
      "execution_count": 58,
      "outputs": []
    },
    {
      "cell_type": "code",
      "source": [
        "X_train_pad = pad_sequences(X_train_seq, maxlen=max_len)\n",
        "X_val_pad = pad_sequences(X_val_seq, maxlen=max_len)"
      ],
      "metadata": {
        "id": "CLfftXbYLtgh"
      },
      "execution_count": 17,
      "outputs": []
    },
    {
      "cell_type": "code",
      "source": [
        "X_test_pad = pad_sequences(X_test_seq, maxlen=max_len)"
      ],
      "metadata": {
        "id": "npvyIIQ1Vvzz"
      },
      "execution_count": 59,
      "outputs": []
    },
    {
      "cell_type": "code",
      "source": [
        "word_idx = tokenizer.word_index"
      ],
      "metadata": {
        "id": "_rY8fyHzN3p6"
      },
      "execution_count": 18,
      "outputs": []
    },
    {
      "cell_type": "code",
      "source": [
        "len(word_idx)"
      ],
      "metadata": {
        "colab": {
          "base_uri": "https://localhost:8080/"
        },
        "id": "n3Lm32sbZ8ro",
        "outputId": "1e27c145-f51e-41de-ccf4-e4c98f735a74"
      },
      "execution_count": 19,
      "outputs": [
        {
          "output_type": "execute_result",
          "data": {
            "text/plain": [
              "85253"
            ]
          },
          "metadata": {},
          "execution_count": 19
        }
      ]
    },
    {
      "cell_type": "markdown",
      "source": [
        "## <b>Simple RNN "
      ],
      "metadata": {
        "id": "z_9AvLeBOEwd"
      }
    },
    {
      "cell_type": "code",
      "source": [
        "# model_rnn=Sequential()"
      ],
      "metadata": {
        "id": "xEuj39aRN_Ak"
      },
      "execution_count": 20,
      "outputs": []
    },
    {
      "cell_type": "code",
      "source": [
        "# model_rnn.add(Embedding(input_dim=len(word_idx)+1,\n",
        "#                         output_dim=300,\n",
        "#                         input_length=max_len\n",
        "#                         ))\n",
        "# model_rnn.add(SimpleRNN(100))\n",
        "# model_rnn.add(Dense(1,activation='sigmoid'))\n",
        "\n",
        "# model_rnn.compile(loss='binary_crossentropy',\n",
        "#               optimizer='adam',\n",
        "#               metrics=['accuracy'])"
      ],
      "metadata": {
        "id": "y8gwtPa1Q9Wi"
      },
      "execution_count": 21,
      "outputs": []
    },
    {
      "cell_type": "code",
      "source": [
        "# model_rnn.fit(X_train_pad,y_train,epochs=5,batch_size=64)"
      ],
      "metadata": {
        "id": "Xdcx2VVnTYeU"
      },
      "execution_count": 22,
      "outputs": []
    },
    {
      "cell_type": "code",
      "source": [
        "# model_rnn.save('/content/drive/MyDrive/NLP/NLP_projects/Classification/model_rnn')"
      ],
      "metadata": {
        "id": "ynmuEqKOjjkH"
      },
      "execution_count": 23,
      "outputs": []
    },
    {
      "cell_type": "code",
      "source": [
        "model_rnn=load_model('/content/drive/MyDrive/NLP/NLP_projects/Classification/model_rnn')"
      ],
      "metadata": {
        "id": "A12tX99yMI9s"
      },
      "execution_count": 25,
      "outputs": []
    },
    {
      "cell_type": "code",
      "source": [
        "pred_rnn = model_rnn.predict(X_val_pad)"
      ],
      "metadata": {
        "id": "thHWgCiiMwSy"
      },
      "execution_count": 27,
      "outputs": []
    },
    {
      "cell_type": "code",
      "source": [
        "print(f\"The ROC_AUC score is {roc_auc_score(y_val,pred_rnn)}\")"
      ],
      "metadata": {
        "colab": {
          "base_uri": "https://localhost:8080/"
        },
        "id": "Q3YXjkzNNmml",
        "outputId": "e43abe17-c90d-4227-f9a4-5815e5540d44"
      },
      "execution_count": 42,
      "outputs": [
        {
          "output_type": "stream",
          "name": "stdout",
          "text": [
            "The ROC_AUC score is 0.9034353308086435\n"
          ]
        }
      ]
    },
    {
      "cell_type": "code",
      "source": [
        "scores_rnn = model_rnn.evaluate(X_val_pad,y_val)\n",
        "print(f\"The accuracy score is {scores_rnn[1]*100}\")"
      ],
      "metadata": {
        "colab": {
          "base_uri": "https://localhost:8080/"
        },
        "id": "k1QchGWVQ4FP",
        "outputId": "589bafa2-099e-4225-e243-c06f0fd3c53a"
      },
      "execution_count": 49,
      "outputs": [
        {
          "output_type": "stream",
          "name": "stdout",
          "text": [
            "210/210 [==============================] - 21s 101ms/step - loss: 0.6225 - accuracy: 0.8306\n",
            "The accuracy score is 83.05970430374146\n"
          ]
        }
      ]
    },
    {
      "cell_type": "markdown",
      "source": [
        "## <b>LSTM"
      ],
      "metadata": {
        "id": "4wjw5-Lbaamf"
      }
    },
    {
      "cell_type": "code",
      "source": [
        "model=Sequential()"
      ],
      "metadata": {
        "id": "XnG2C4xra9qn"
      },
      "execution_count": 43,
      "outputs": []
    },
    {
      "cell_type": "code",
      "source": [
        "model.add(Embedding(input_dim=len(word_idx)+1,\n",
        "                        output_dim=300,\n",
        "                        input_length=max_len\n",
        "                        ))\n",
        "model.add(LSTM(100))\n",
        "model.add(Dense(1,activation='sigmoid'))\n",
        "\n",
        "model.summary()"
      ],
      "metadata": {
        "id": "9OgSVddMacLZ",
        "colab": {
          "base_uri": "https://localhost:8080/"
        },
        "outputId": "3eb39fb6-14cd-4cc9-e2ea-6ef8e4c24d4d"
      },
      "execution_count": 44,
      "outputs": [
        {
          "output_type": "stream",
          "name": "stdout",
          "text": [
            "Model: \"sequential\"\n",
            "_________________________________________________________________\n",
            " Layer (type)                Output Shape              Param #   \n",
            "=================================================================\n",
            " embedding (Embedding)       (None, 1435, 300)         25576200  \n",
            "                                                                 \n",
            " lstm (LSTM)                 (None, 100)               160400    \n",
            "                                                                 \n",
            " dense (Dense)               (None, 1)                 101       \n",
            "                                                                 \n",
            "=================================================================\n",
            "Total params: 25,736,701\n",
            "Trainable params: 25,736,701\n",
            "Non-trainable params: 0\n",
            "_________________________________________________________________\n"
          ]
        }
      ]
    },
    {
      "cell_type": "code",
      "source": [
        "model.compile(loss='binary_crossentropy',\n",
        "              optimizer='adam',\n",
        "              metrics=['accuracy'])"
      ],
      "metadata": {
        "id": "AO9dcGTAbKiF"
      },
      "execution_count": 45,
      "outputs": []
    },
    {
      "cell_type": "code",
      "source": [
        "model.fit(X_train_pad,y_train,epochs=5,batch_size=128)"
      ],
      "metadata": {
        "id": "mvPvqrjEb1BH",
        "colab": {
          "base_uri": "https://localhost:8080/"
        },
        "outputId": "e6022a48-ecb8-408b-be29-b4b6ffd38d43"
      },
      "execution_count": 46,
      "outputs": [
        {
          "output_type": "stream",
          "name": "stdout",
          "text": [
            "Epoch 1/5\n",
            "210/210 [==============================] - 34s 136ms/step - loss: 0.3812 - accuracy: 0.8317\n",
            "Epoch 2/5\n",
            "210/210 [==============================] - 28s 133ms/step - loss: 0.1541 - accuracy: 0.9465\n",
            "Epoch 3/5\n",
            "210/210 [==============================] - 27s 127ms/step - loss: 0.0635 - accuracy: 0.9807\n",
            "Epoch 4/5\n",
            "210/210 [==============================] - 27s 128ms/step - loss: 0.0418 - accuracy: 0.9868\n",
            "Epoch 5/5\n",
            "210/210 [==============================] - 27s 131ms/step - loss: 0.0282 - accuracy: 0.9916\n"
          ]
        },
        {
          "output_type": "execute_result",
          "data": {
            "text/plain": [
              "<keras.callbacks.History at 0x7f31040c8590>"
            ]
          },
          "metadata": {},
          "execution_count": 46
        }
      ]
    },
    {
      "cell_type": "code",
      "source": [
        "pred_lstm = model.predict(X_val_pad)\n",
        "print(f\"The ROC_AUC score is {roc_auc_score(y_val,pred_lstm)}\")"
      ],
      "metadata": {
        "colab": {
          "base_uri": "https://localhost:8080/"
        },
        "id": "Dhzq1BVlQH6U",
        "outputId": "3621839a-bc0b-417e-fe2d-07069074d915"
      },
      "execution_count": 47,
      "outputs": [
        {
          "output_type": "stream",
          "name": "stdout",
          "text": [
            "The ROC_AUC score is 0.939735442192025\n"
          ]
        }
      ]
    },
    {
      "cell_type": "code",
      "source": [
        "scores_lstm = model.evaluate(X_val_pad,y_val)\n",
        "print(f\"The accuracy score is {scores_lstm[1]*100}\")"
      ],
      "metadata": {
        "colab": {
          "base_uri": "https://localhost:8080/"
        },
        "id": "2ZxO5vcYQW8Z",
        "outputId": "be12a669-088c-4049-efb4-dcc74d7c435e"
      },
      "execution_count": 48,
      "outputs": [
        {
          "output_type": "stream",
          "name": "stdout",
          "text": [
            "210/210 [==============================] - 5s 23ms/step - loss: 0.4800 - accuracy: 0.8715\n",
            "The accuracy score is 87.14925646781921\n"
          ]
        }
      ]
    },
    {
      "cell_type": "markdown",
      "source": [
        "## <b>Models with pretrained Glove Embedding"
      ],
      "metadata": {
        "id": "NitmuAamRNHO"
      }
    },
    {
      "cell_type": "markdown",
      "source": [
        "We will use a pretrained embedding from Glove of 50 dimensions for ease of loading"
      ],
      "metadata": {
        "id": "evvsWbg_SHyi"
      }
    },
    {
      "cell_type": "code",
      "source": [
        "embeddings_index = {}\n",
        "f = open(os.path.join(PATH, 'glove.6B.50d.txt'))\n",
        "for line in f:\n",
        "    values = line.split()\n",
        "    word = values[0]\n",
        "    coefs = np.asarray(values[1:], dtype='float32')\n",
        "    embeddings_index[word] = coefs\n",
        "f.close()\n",
        "\n",
        "print('Found %s word vectors.' % len(embeddings_index))"
      ],
      "metadata": {
        "colab": {
          "base_uri": "https://localhost:8080/"
        },
        "id": "UPfZigyhRXk4",
        "outputId": "fc6bc130-f2b4-49b6-9b4d-76247311738d"
      },
      "execution_count": 52,
      "outputs": [
        {
          "output_type": "stream",
          "name": "stdout",
          "text": [
            "Found 400000 word vectors.\n"
          ]
        }
      ]
    },
    {
      "cell_type": "code",
      "source": [
        "embedding_matrix = np.zeros((len(word_idx) + 1, 50))\n",
        "for word, i in word_idx.items():\n",
        "    embedding_vector = embeddings_index.get(word)\n",
        "    if embedding_vector is not None:\n",
        "        # words not found in embedding index will be all-zeros.\n",
        "        embedding_matrix[i] = embedding_vector"
      ],
      "metadata": {
        "id": "z7QDOoctSehb"
      },
      "execution_count": 53,
      "outputs": []
    },
    {
      "cell_type": "code",
      "source": [
        "model=Sequential()\n",
        "\n",
        "model.add(Embedding(input_dim=len(word_idx)+1,\n",
        "                    output_dim = 50,\n",
        "                    input_length=max_len,\n",
        "                    weights=[embedding_matrix],\n",
        "                    trainable=False))\n",
        "model.add(LSTM(100))\n",
        "model.add(Dense(1,activation='sigmoid'))\n",
        "\n",
        "model.compile(loss='binary_crossentropy',\n",
        "              optimizer='adam',\n",
        "              metrics=['accuracy']\n",
        "              )"
      ],
      "metadata": {
        "id": "Uk3-b5OGTT3A"
      },
      "execution_count": 54,
      "outputs": []
    },
    {
      "cell_type": "code",
      "source": [
        "model.fit(X_train_pad,\n",
        "          y_train,\n",
        "          epochs=5,\n",
        "          batch_size=128,\n",
        "          validation_data=(X_val_pad,y_val)\n",
        "          )"
      ],
      "metadata": {
        "colab": {
          "base_uri": "https://localhost:8080/"
        },
        "id": "iqF2tvojUavz",
        "outputId": "e271b68c-2e80-4983-e701-fa676554974b"
      },
      "execution_count": 55,
      "outputs": [
        {
          "output_type": "stream",
          "name": "stdout",
          "text": [
            "Epoch 1/5\n",
            "210/210 [==============================] - 21s 93ms/step - loss: 0.5249 - accuracy: 0.7404 - val_loss: 0.4730 - val_accuracy: 0.7827\n",
            "Epoch 2/5\n",
            "210/210 [==============================] - 19s 89ms/step - loss: 0.4584 - accuracy: 0.7859 - val_loss: 0.4191 - val_accuracy: 0.8125\n",
            "Epoch 3/5\n",
            "210/210 [==============================] - 20s 93ms/step - loss: 0.4035 - accuracy: 0.8204 - val_loss: 0.3829 - val_accuracy: 0.8375\n",
            "Epoch 4/5\n",
            "210/210 [==============================] - 18s 85ms/step - loss: 0.3760 - accuracy: 0.8360 - val_loss: 0.3637 - val_accuracy: 0.8421\n",
            "Epoch 5/5\n",
            "210/210 [==============================] - 18s 84ms/step - loss: 0.3600 - accuracy: 0.8435 - val_loss: 0.3568 - val_accuracy: 0.8475\n"
          ]
        },
        {
          "output_type": "execute_result",
          "data": {
            "text/plain": [
              "<keras.callbacks.History at 0x7f3048c70a50>"
            ]
          },
          "metadata": {},
          "execution_count": 55
        }
      ]
    },
    {
      "cell_type": "code",
      "source": [
        "pred_emb_lstm = model.predict(X_test_pad)\n",
        "print(f\"The ROC_AUC score is {roc_auc_score(test['sentiment'],pred_emb_lstm)}\")"
      ],
      "metadata": {
        "colab": {
          "base_uri": "https://localhost:8080/"
        },
        "id": "95wWf33kV4QP",
        "outputId": "5932991d-b16d-427d-d920-808d0fbd9d17"
      },
      "execution_count": 61,
      "outputs": [
        {
          "output_type": "stream",
          "name": "stdout",
          "text": [
            "The ROC_AUC score is 0.6141522497704315\n"
          ]
        }
      ]
    },
    {
      "cell_type": "code",
      "source": [
        "scores_emb_lstm = model.evaluate(X_test_pad,test['sentiment'],verbose=0)\n",
        "print(f\"The accuracy score is {scores_emb_lstm[1]*100}\")"
      ],
      "metadata": {
        "colab": {
          "base_uri": "https://localhost:8080/"
        },
        "id": "LCPw_vhDWd2B",
        "outputId": "3c640474-1c72-4f0c-c8a8-4b1274eda24a"
      },
      "execution_count": 62,
      "outputs": [
        {
          "output_type": "stream",
          "name": "stdout",
          "text": [
            "The accuracy score is 57.52727389335632\n"
          ]
        }
      ]
    },
    {
      "cell_type": "markdown",
      "source": [
        "Clear signs of overfitting, hence we train the model again with dropout"
      ],
      "metadata": {
        "id": "Ev-qrpJJW7w4"
      }
    },
    {
      "cell_type": "markdown",
      "source": [
        "## <b> LSTM Model with dropout on Glove Embedding"
      ],
      "metadata": {
        "id": "tvd_MXbVXAfD"
      }
    },
    {
      "cell_type": "code",
      "source": [
        "model=Sequential()\n",
        "\n",
        "model.add(Embedding(input_dim=len(word_idx)+1,\n",
        "                    output_dim = 50,\n",
        "                    input_length=max_len,\n",
        "                    weights=[embedding_matrix],\n",
        "                    trainable=False))\n",
        "model.add(LSTM(100,dropout=0.3))\n",
        "model.add(Dense(1,activation='sigmoid'))\n",
        "\n",
        "model.compile(loss='binary_crossentropy',\n",
        "              optimizer='adam',\n",
        "              metrics=['accuracy']\n",
        "              )"
      ],
      "metadata": {
        "id": "E2OFXxaZW_sq"
      },
      "execution_count": 67,
      "outputs": []
    },
    {
      "cell_type": "code",
      "source": [
        "model.fit(X_train_pad,\n",
        "          y_train,\n",
        "          epochs=10,\n",
        "          batch_size=128,\n",
        "          validation_data=(X_val_pad,y_val)\n",
        "          )"
      ],
      "metadata": {
        "colab": {
          "base_uri": "https://localhost:8080/"
        },
        "id": "A-6OfaZhXTpM",
        "outputId": "f6269875-05ea-41d1-ed61-541dba418d55"
      },
      "execution_count": 68,
      "outputs": [
        {
          "output_type": "stream",
          "name": "stdout",
          "text": [
            "Epoch 1/10\n",
            "210/210 [==============================] - 21s 89ms/step - loss: 0.5503 - accuracy: 0.7163 - val_loss: 0.4999 - val_accuracy: 0.7669\n",
            "Epoch 2/10\n",
            "210/210 [==============================] - 18s 88ms/step - loss: 0.4830 - accuracy: 0.7718 - val_loss: 0.5111 - val_accuracy: 0.7833\n",
            "Epoch 3/10\n",
            "210/210 [==============================] - 18s 88ms/step - loss: 0.4438 - accuracy: 0.7990 - val_loss: 0.4018 - val_accuracy: 0.8275\n",
            "Epoch 4/10\n",
            "210/210 [==============================] - 18s 87ms/step - loss: 0.4195 - accuracy: 0.8103 - val_loss: 0.3949 - val_accuracy: 0.8290\n",
            "Epoch 5/10\n",
            "210/210 [==============================] - 18s 86ms/step - loss: 0.4033 - accuracy: 0.8197 - val_loss: 0.4021 - val_accuracy: 0.8266\n",
            "Epoch 6/10\n",
            "210/210 [==============================] - 18s 87ms/step - loss: 0.3884 - accuracy: 0.8276 - val_loss: 0.3899 - val_accuracy: 0.8352\n",
            "Epoch 7/10\n",
            "210/210 [==============================] - 18s 88ms/step - loss: 0.3818 - accuracy: 0.8292 - val_loss: 0.3687 - val_accuracy: 0.8385\n",
            "Epoch 8/10\n",
            "210/210 [==============================] - 18s 87ms/step - loss: 0.3658 - accuracy: 0.8387 - val_loss: 0.3407 - val_accuracy: 0.8569\n",
            "Epoch 9/10\n",
            "210/210 [==============================] - 20s 97ms/step - loss: 0.3562 - accuracy: 0.8462 - val_loss: 0.3571 - val_accuracy: 0.8448\n",
            "Epoch 10/10\n",
            "210/210 [==============================] - 19s 89ms/step - loss: 0.3491 - accuracy: 0.8487 - val_loss: 0.3306 - val_accuracy: 0.8584\n"
          ]
        },
        {
          "output_type": "execute_result",
          "data": {
            "text/plain": [
              "<keras.callbacks.History at 0x7f304826c310>"
            ]
          },
          "metadata": {},
          "execution_count": 68
        }
      ]
    },
    {
      "cell_type": "code",
      "source": [
        "pred_emb_drp = model.predict(X_test_pad)\n",
        "print(f\"The ROC_AUC score is {roc_auc_score(test['sentiment'],pred_emb_drp)}\")"
      ],
      "metadata": {
        "colab": {
          "base_uri": "https://localhost:8080/"
        },
        "id": "CC_UJIh1aq8Y",
        "outputId": "e1b9e22a-95d8-46c9-a778-37dbd67a0a4b"
      },
      "execution_count": 69,
      "outputs": [
        {
          "output_type": "stream",
          "name": "stdout",
          "text": [
            "The ROC_AUC score is 0.6226493296602388\n"
          ]
        }
      ]
    },
    {
      "cell_type": "code",
      "source": [
        "scores_emb_drp = model.evaluate(X_test_pad,test['sentiment'],verbose=0)\n",
        "print(f\"The accuracy score is {scores_emb_drp[1]*100}\")"
      ],
      "metadata": {
        "colab": {
          "base_uri": "https://localhost:8080/"
        },
        "id": "2EOXUmraawnH",
        "outputId": "8c714025-d149-414b-9050-e7c108ee6161"
      },
      "execution_count": 70,
      "outputs": [
        {
          "output_type": "stream",
          "name": "stdout",
          "text": [
            "The accuracy score is 58.454543352127075\n"
          ]
        }
      ]
    }
  ]
}