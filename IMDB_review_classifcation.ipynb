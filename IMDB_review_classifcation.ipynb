{
  "nbformat": 4,
  "nbformat_minor": 0,
  "metadata": {
    "colab": {
      "name": "IMDB_review_classifcation.ipynb",
      "provenance": [],
      "mount_file_id": "1JdlhRv8-TS2N1NdG9_UcSPtbYS-I1R4_",
      "authorship_tag": "ABX9TyNGk8fIyaMR8hTDAToXlrML",
      "include_colab_link": true
    },
    "kernelspec": {
      "name": "python3",
      "display_name": "Python 3"
    },
    "language_info": {
      "name": "python"
    }
  },
  "cells": [
    {
      "cell_type": "markdown",
      "metadata": {
        "id": "view-in-github",
        "colab_type": "text"
      },
      "source": [
        "<a href=\"https://colab.research.google.com/github/rajeevnair676/NLP_projects/blob/main/IMDB_review_classifcation.ipynb\" target=\"_parent\"><img src=\"https://colab.research.google.com/assets/colab-badge.svg\" alt=\"Open In Colab\"/></a>"
      ]
    },
    {
      "cell_type": "code",
      "execution_count": 39,
      "metadata": {
        "id": "AYuMebcKp0jf"
      },
      "outputs": [],
      "source": [
        "import pandas as pd\n",
        "import numpy as np\n",
        "import matplotlib.pyplot as plt\n",
        "import nltk\n",
        "import re\n",
        "\n",
        "from collections import Counter\n",
        "from sklearn.model_selection import train_test_split\n",
        "from sklearn.feature_extraction.text import CountVectorizer,TfidfVectorizer\n",
        "from sklearn.linear_model import LogisticRegression\n",
        "from sklearn.preprocessing import LabelBinarizer\n",
        "from sklearn.metrics import accuracy_score,plot_confusion_matrix\n",
        "from sklearn.naive_bayes import GaussianNB\n",
        "from sklearn.svm import SVC\n",
        "from sklearn.ensemble import GradientBoostingClassifier\n",
        "from sklearn.neural_network import MLPClassifier"
      ]
    },
    {
      "cell_type": "code",
      "source": [
        "df=pd.read_csv('/content/drive/MyDrive/NLP/NLP_projects/Classification/IMDB Dataset.csv')\n",
        "df.head()"
      ],
      "metadata": {
        "colab": {
          "base_uri": "https://localhost:8080/",
          "height": 206
        },
        "id": "OCPRy_4DqRj9",
        "outputId": "cc7fa414-f796-4aec-c081-4a8427a99cd6"
      },
      "execution_count": 4,
      "outputs": [
        {
          "output_type": "execute_result",
          "data": {
            "text/plain": [
              "                                              review sentiment\n",
              "0  One of the other reviewers has mentioned that ...  positive\n",
              "1  A wonderful little production. <br /><br />The...  positive\n",
              "2  I thought this was a wonderful way to spend ti...  positive\n",
              "3  Basically there's a family where a little boy ...  negative\n",
              "4  Petter Mattei's \"Love in the Time of Money\" is...  positive"
            ],
            "text/html": [
              "\n",
              "  <div id=\"df-6cc98a12-3a27-458c-8fd7-cb0b315dbc76\">\n",
              "    <div class=\"colab-df-container\">\n",
              "      <div>\n",
              "<style scoped>\n",
              "    .dataframe tbody tr th:only-of-type {\n",
              "        vertical-align: middle;\n",
              "    }\n",
              "\n",
              "    .dataframe tbody tr th {\n",
              "        vertical-align: top;\n",
              "    }\n",
              "\n",
              "    .dataframe thead th {\n",
              "        text-align: right;\n",
              "    }\n",
              "</style>\n",
              "<table border=\"1\" class=\"dataframe\">\n",
              "  <thead>\n",
              "    <tr style=\"text-align: right;\">\n",
              "      <th></th>\n",
              "      <th>review</th>\n",
              "      <th>sentiment</th>\n",
              "    </tr>\n",
              "  </thead>\n",
              "  <tbody>\n",
              "    <tr>\n",
              "      <th>0</th>\n",
              "      <td>One of the other reviewers has mentioned that ...</td>\n",
              "      <td>positive</td>\n",
              "    </tr>\n",
              "    <tr>\n",
              "      <th>1</th>\n",
              "      <td>A wonderful little production. &lt;br /&gt;&lt;br /&gt;The...</td>\n",
              "      <td>positive</td>\n",
              "    </tr>\n",
              "    <tr>\n",
              "      <th>2</th>\n",
              "      <td>I thought this was a wonderful way to spend ti...</td>\n",
              "      <td>positive</td>\n",
              "    </tr>\n",
              "    <tr>\n",
              "      <th>3</th>\n",
              "      <td>Basically there's a family where a little boy ...</td>\n",
              "      <td>negative</td>\n",
              "    </tr>\n",
              "    <tr>\n",
              "      <th>4</th>\n",
              "      <td>Petter Mattei's \"Love in the Time of Money\" is...</td>\n",
              "      <td>positive</td>\n",
              "    </tr>\n",
              "  </tbody>\n",
              "</table>\n",
              "</div>\n",
              "      <button class=\"colab-df-convert\" onclick=\"convertToInteractive('df-6cc98a12-3a27-458c-8fd7-cb0b315dbc76')\"\n",
              "              title=\"Convert this dataframe to an interactive table.\"\n",
              "              style=\"display:none;\">\n",
              "        \n",
              "  <svg xmlns=\"http://www.w3.org/2000/svg\" height=\"24px\"viewBox=\"0 0 24 24\"\n",
              "       width=\"24px\">\n",
              "    <path d=\"M0 0h24v24H0V0z\" fill=\"none\"/>\n",
              "    <path d=\"M18.56 5.44l.94 2.06.94-2.06 2.06-.94-2.06-.94-.94-2.06-.94 2.06-2.06.94zm-11 1L8.5 8.5l.94-2.06 2.06-.94-2.06-.94L8.5 2.5l-.94 2.06-2.06.94zm10 10l.94 2.06.94-2.06 2.06-.94-2.06-.94-.94-2.06-.94 2.06-2.06.94z\"/><path d=\"M17.41 7.96l-1.37-1.37c-.4-.4-.92-.59-1.43-.59-.52 0-1.04.2-1.43.59L10.3 9.45l-7.72 7.72c-.78.78-.78 2.05 0 2.83L4 21.41c.39.39.9.59 1.41.59.51 0 1.02-.2 1.41-.59l7.78-7.78 2.81-2.81c.8-.78.8-2.07 0-2.86zM5.41 20L4 18.59l7.72-7.72 1.47 1.35L5.41 20z\"/>\n",
              "  </svg>\n",
              "      </button>\n",
              "      \n",
              "  <style>\n",
              "    .colab-df-container {\n",
              "      display:flex;\n",
              "      flex-wrap:wrap;\n",
              "      gap: 12px;\n",
              "    }\n",
              "\n",
              "    .colab-df-convert {\n",
              "      background-color: #E8F0FE;\n",
              "      border: none;\n",
              "      border-radius: 50%;\n",
              "      cursor: pointer;\n",
              "      display: none;\n",
              "      fill: #1967D2;\n",
              "      height: 32px;\n",
              "      padding: 0 0 0 0;\n",
              "      width: 32px;\n",
              "    }\n",
              "\n",
              "    .colab-df-convert:hover {\n",
              "      background-color: #E2EBFA;\n",
              "      box-shadow: 0px 1px 2px rgba(60, 64, 67, 0.3), 0px 1px 3px 1px rgba(60, 64, 67, 0.15);\n",
              "      fill: #174EA6;\n",
              "    }\n",
              "\n",
              "    [theme=dark] .colab-df-convert {\n",
              "      background-color: #3B4455;\n",
              "      fill: #D2E3FC;\n",
              "    }\n",
              "\n",
              "    [theme=dark] .colab-df-convert:hover {\n",
              "      background-color: #434B5C;\n",
              "      box-shadow: 0px 1px 3px 1px rgba(0, 0, 0, 0.15);\n",
              "      filter: drop-shadow(0px 1px 2px rgba(0, 0, 0, 0.3));\n",
              "      fill: #FFFFFF;\n",
              "    }\n",
              "  </style>\n",
              "\n",
              "      <script>\n",
              "        const buttonEl =\n",
              "          document.querySelector('#df-6cc98a12-3a27-458c-8fd7-cb0b315dbc76 button.colab-df-convert');\n",
              "        buttonEl.style.display =\n",
              "          google.colab.kernel.accessAllowed ? 'block' : 'none';\n",
              "\n",
              "        async function convertToInteractive(key) {\n",
              "          const element = document.querySelector('#df-6cc98a12-3a27-458c-8fd7-cb0b315dbc76');\n",
              "          const dataTable =\n",
              "            await google.colab.kernel.invokeFunction('convertToInteractive',\n",
              "                                                     [key], {});\n",
              "          if (!dataTable) return;\n",
              "\n",
              "          const docLinkHtml = 'Like what you see? Visit the ' +\n",
              "            '<a target=\"_blank\" href=https://colab.research.google.com/notebooks/data_table.ipynb>data table notebook</a>'\n",
              "            + ' to learn more about interactive tables.';\n",
              "          element.innerHTML = '';\n",
              "          dataTable['output_type'] = 'display_data';\n",
              "          await google.colab.output.renderOutput(dataTable, element);\n",
              "          const docLink = document.createElement('div');\n",
              "          docLink.innerHTML = docLinkHtml;\n",
              "          element.appendChild(docLink);\n",
              "        }\n",
              "      </script>\n",
              "    </div>\n",
              "  </div>\n",
              "  "
            ]
          },
          "metadata": {},
          "execution_count": 4
        }
      ]
    },
    {
      "cell_type": "code",
      "source": [
        "X_train, X_test, y_train, y_test = train_test_split(df['review'], df['sentiment'], stratify=df['sentiment'],\n",
        "                                                    test_size=0.33,\n",
        "                                                    shuffle=True, \n",
        "                                                    random_state=42)"
      ],
      "metadata": {
        "id": "LhmZNKu3IMqn"
      },
      "execution_count": 5,
      "outputs": []
    },
    {
      "cell_type": "code",
      "source": [
        "train = pd.concat([X_train,y_train],axis=1)\n",
        "test=pd.concat([X_test,y_test],axis=1)"
      ],
      "metadata": {
        "id": "OUe1UdSGI0QA"
      },
      "execution_count": 6,
      "outputs": []
    },
    {
      "cell_type": "markdown",
      "source": [
        "##<b> Initial EDA on the data"
      ],
      "metadata": {
        "id": "w-1KHQbJq4pN"
      }
    },
    {
      "cell_type": "markdown",
      "source": [
        "We determine the following from the data:\n",
        "\n",
        "1. Number of samples\n",
        "2. Number of classes\n",
        "3. Number of samples per class\n",
        "4. Number of words per sample\n",
        "5. Frequency distribution of words\n",
        "6. Distribution of sample length"
      ],
      "metadata": {
        "id": "xnqk1Ttxq9Fl"
      }
    },
    {
      "cell_type": "markdown",
      "source": [
        "### 1. Number of samples"
      ],
      "metadata": {
        "id": "zby1BxWTrbCl"
      }
    },
    {
      "cell_type": "code",
      "source": [
        "print(f\"The data has {df.shape[0]} rows and {df.shape[1]} columns\")"
      ],
      "metadata": {
        "colab": {
          "base_uri": "https://localhost:8080/"
        },
        "id": "QGTfTzAHqxnU",
        "outputId": "c9209ca7-56e7-4480-f559-5d3cd318b7d1"
      },
      "execution_count": 7,
      "outputs": [
        {
          "output_type": "stream",
          "name": "stdout",
          "text": [
            "The data has 50000 rows and 2 columns\n"
          ]
        }
      ]
    },
    {
      "cell_type": "markdown",
      "source": [
        "### 2. Number of classes"
      ],
      "metadata": {
        "id": "NKSPR2jKr0Ut"
      }
    },
    {
      "cell_type": "code",
      "source": [
        "print(f\"The number of classes on the data are {df.sentiment.unique()}\")"
      ],
      "metadata": {
        "colab": {
          "base_uri": "https://localhost:8080/"
        },
        "id": "z69enNH2rgCF",
        "outputId": "ff999fa5-ad65-4e8c-b7a2-d697dc80c9f6"
      },
      "execution_count": 8,
      "outputs": [
        {
          "output_type": "stream",
          "name": "stdout",
          "text": [
            "The number of classes on the data are ['positive' 'negative']\n"
          ]
        }
      ]
    },
    {
      "cell_type": "markdown",
      "source": [
        "### 3. Number of samples per class"
      ],
      "metadata": {
        "id": "PaaoGyYTshQ_"
      }
    },
    {
      "cell_type": "code",
      "source": [
        "print(f\"The distribution of the classes are: \\n{df.sentiment.value_counts()}\")"
      ],
      "metadata": {
        "colab": {
          "base_uri": "https://localhost:8080/"
        },
        "id": "uyGZbSxtsONc",
        "outputId": "cd90ec8d-0516-4299-8f8e-1555c9cd2d93"
      },
      "execution_count": 9,
      "outputs": [
        {
          "output_type": "stream",
          "name": "stdout",
          "text": [
            "The distribution of the classes are: \n",
            "positive    25000\n",
            "negative    25000\n",
            "Name: sentiment, dtype: int64\n"
          ]
        }
      ]
    },
    {
      "cell_type": "markdown",
      "source": [
        "### 4. Number of words per sample"
      ],
      "metadata": {
        "id": "-Lxa9Rk4syuF"
      }
    },
    {
      "cell_type": "code",
      "source": [
        "len_list = [len(str(s).split()) for s in train.review]"
      ],
      "metadata": {
        "id": "HDAibQs6tBBg"
      },
      "execution_count": 10,
      "outputs": []
    },
    {
      "cell_type": "code",
      "source": [
        "print(f\"The median number of words per sample is {np.median(len_list)}\")"
      ],
      "metadata": {
        "colab": {
          "base_uri": "https://localhost:8080/"
        },
        "id": "OQOdxSePsnzU",
        "outputId": "0a193ad1-ed0f-4660-9468-e151666dae45"
      },
      "execution_count": 11,
      "outputs": [
        {
          "output_type": "stream",
          "name": "stdout",
          "text": [
            "The median number of words per sample is 173.0\n"
          ]
        }
      ]
    },
    {
      "cell_type": "markdown",
      "source": [
        "### 5. Frequency distribution of words"
      ],
      "metadata": {
        "id": "RpHzhCVMu1z3"
      }
    },
    {
      "cell_type": "code",
      "source": [
        "# count = Counter([str(s).split() for s in df.review])"
      ],
      "metadata": {
        "id": "Wu7f_oX-uuoj"
      },
      "execution_count": 12,
      "outputs": []
    },
    {
      "cell_type": "code",
      "source": [
        "corpus = ' '.join(word for word in train.review)"
      ],
      "metadata": {
        "id": "8wumjTGVv05C"
      },
      "execution_count": 13,
      "outputs": []
    },
    {
      "cell_type": "code",
      "source": [
        "count = Counter([reviews for reviews in corpus.split()])"
      ],
      "metadata": {
        "id": "wgtGuh2R5KEk"
      },
      "execution_count": 14,
      "outputs": []
    },
    {
      "cell_type": "code",
      "source": [
        "count_df = pd.DataFrame(count.most_common(10))\n",
        "count_df.columns=['word','count']\n",
        "count_df.style.background_gradient(cmap='Purples')"
      ],
      "metadata": {
        "colab": {
          "base_uri": "https://localhost:8080/",
          "height": 363
        },
        "id": "yvSmH7m35nqB",
        "outputId": "d1fe277b-fd0e-4127-9f6b-1c4595f2a359"
      },
      "execution_count": 15,
      "outputs": [
        {
          "output_type": "execute_result",
          "data": {
            "text/plain": [
              "<pandas.io.formats.style.Styler at 0x7f3d866fbf50>"
            ],
            "text/html": [
              "<style type=\"text/css\">\n",
              "#T_4d57b_row0_col1 {\n",
              "  background-color: #3f007d;\n",
              "  color: #f1f1f1;\n",
              "}\n",
              "#T_4d57b_row1_col1 {\n",
              "  background-color: #b0afd4;\n",
              "  color: #000000;\n",
              "}\n",
              "#T_4d57b_row2_col1 {\n",
              "  background-color: #b3b3d6;\n",
              "  color: #000000;\n",
              "}\n",
              "#T_4d57b_row3_col1 {\n",
              "  background-color: #bdbedc;\n",
              "  color: #000000;\n",
              "}\n",
              "#T_4d57b_row4_col1 {\n",
              "  background-color: #c8c8e2;\n",
              "  color: #000000;\n",
              "}\n",
              "#T_4d57b_row5_col1 {\n",
              "  background-color: #e3e2ef;\n",
              "  color: #000000;\n",
              "}\n",
              "#T_4d57b_row6_col1 {\n",
              "  background-color: #efedf5;\n",
              "  color: #000000;\n",
              "}\n",
              "#T_4d57b_row7_col1 {\n",
              "  background-color: #f8f7fa;\n",
              "  color: #000000;\n",
              "}\n",
              "#T_4d57b_row8_col1 {\n",
              "  background-color: #f9f8fb;\n",
              "  color: #000000;\n",
              "}\n",
              "#T_4d57b_row9_col1 {\n",
              "  background-color: #fcfbfd;\n",
              "  color: #000000;\n",
              "}\n",
              "</style>\n",
              "<table id=\"T_4d57b_\" class=\"dataframe\">\n",
              "  <thead>\n",
              "    <tr>\n",
              "      <th class=\"blank level0\" >&nbsp;</th>\n",
              "      <th class=\"col_heading level0 col0\" >word</th>\n",
              "      <th class=\"col_heading level0 col1\" >count</th>\n",
              "    </tr>\n",
              "  </thead>\n",
              "  <tbody>\n",
              "    <tr>\n",
              "      <th id=\"T_4d57b_level0_row0\" class=\"row_heading level0 row0\" >0</th>\n",
              "      <td id=\"T_4d57b_row0_col0\" class=\"data row0 col0\" >the</td>\n",
              "      <td id=\"T_4d57b_row0_col1\" class=\"data row0 col1\" >379870</td>\n",
              "    </tr>\n",
              "    <tr>\n",
              "      <th id=\"T_4d57b_level0_row1\" class=\"row_heading level0 row1\" >1</th>\n",
              "      <td id=\"T_4d57b_row1_col0\" class=\"data row1 col0\" >a</td>\n",
              "      <td id=\"T_4d57b_row1_col1\" class=\"data row1 col1\" >205142</td>\n",
              "    </tr>\n",
              "    <tr>\n",
              "      <th id=\"T_4d57b_level0_row2\" class=\"row_heading level0 row2\" >2</th>\n",
              "      <td id=\"T_4d57b_row2_col0\" class=\"data row2 col0\" >and</td>\n",
              "      <td id=\"T_4d57b_row2_col1\" class=\"data row2 col1\" >201778</td>\n",
              "    </tr>\n",
              "    <tr>\n",
              "      <th id=\"T_4d57b_level0_row3\" class=\"row_heading level0 row3\" >3</th>\n",
              "      <td id=\"T_4d57b_row3_col0\" class=\"data row3 col0\" >of</td>\n",
              "      <td id=\"T_4d57b_row3_col1\" class=\"data row3 col1\" >189378</td>\n",
              "    </tr>\n",
              "    <tr>\n",
              "      <th id=\"T_4d57b_level0_row4\" class=\"row_heading level0 row4\" >4</th>\n",
              "      <td id=\"T_4d57b_row4_col0\" class=\"data row4 col0\" >to</td>\n",
              "      <td id=\"T_4d57b_row4_col1\" class=\"data row4 col1\" >174971</td>\n",
              "    </tr>\n",
              "    <tr>\n",
              "      <th id=\"T_4d57b_level0_row5\" class=\"row_heading level0 row5\" >5</th>\n",
              "      <td id=\"T_4d57b_row5_col0\" class=\"data row5 col0\" >is</td>\n",
              "      <td id=\"T_4d57b_row5_col1\" class=\"data row5 col1\" >135753</td>\n",
              "    </tr>\n",
              "    <tr>\n",
              "      <th id=\"T_4d57b_level0_row6\" class=\"row_heading level0 row6\" >6</th>\n",
              "      <td id=\"T_4d57b_row6_col0\" class=\"data row6 col0\" >in</td>\n",
              "      <td id=\"T_4d57b_row6_col1\" class=\"data row6 col1\" >113152</td>\n",
              "    </tr>\n",
              "    <tr>\n",
              "      <th id=\"T_4d57b_level0_row7\" class=\"row_heading level0 row7\" >7</th>\n",
              "      <td id=\"T_4d57b_row7_col0\" class=\"data row7 col0\" >I</td>\n",
              "      <td id=\"T_4d57b_row7_col1\" class=\"data row7 col1\" >88909</td>\n",
              "    </tr>\n",
              "    <tr>\n",
              "      <th id=\"T_4d57b_level0_row8\" class=\"row_heading level0 row8\" >8</th>\n",
              "      <td id=\"T_4d57b_row8_col0\" class=\"data row8 col0\" >that</td>\n",
              "      <td id=\"T_4d57b_row8_col1\" class=\"data row8 col1\" >84697</td>\n",
              "    </tr>\n",
              "    <tr>\n",
              "      <th id=\"T_4d57b_level0_row9\" class=\"row_heading level0 row9\" >9</th>\n",
              "      <td id=\"T_4d57b_row9_col0\" class=\"data row9 col0\" >this</td>\n",
              "      <td id=\"T_4d57b_row9_col1\" class=\"data row9 col1\" >76045</td>\n",
              "    </tr>\n",
              "  </tbody>\n",
              "</table>\n"
            ]
          },
          "metadata": {},
          "execution_count": 15
        }
      ]
    },
    {
      "cell_type": "markdown",
      "source": [
        "### 6. Distribution of sample length"
      ],
      "metadata": {
        "id": "h5XsXsmP7L8H"
      }
    },
    {
      "cell_type": "code",
      "source": [
        "plt.hist([len(s) for s in train.review],50)\n",
        "plt.xlabel('Length of review')\n",
        "plt.ylabel('Number of reviews')\n",
        "plt.title('Sample length distribution')\n",
        "plt.show()"
      ],
      "metadata": {
        "colab": {
          "base_uri": "https://localhost:8080/",
          "height": 295
        },
        "id": "nOBcjKUL5ph6",
        "outputId": "4b972490-0fcb-4355-98a0-a144fab835d5"
      },
      "execution_count": 16,
      "outputs": [
        {
          "output_type": "display_data",
          "data": {
            "text/plain": [
              "<Figure size 432x288 with 1 Axes>"
            ],
            "image/png": "[encoded data removed]"
          },
          "metadata": {
            "needs_background": "light"
          }
        }
      ]
    },
    {
      "cell_type": "markdown",
      "source": [
        "We see that the frequency distribution is mostly stop words, hence we will remove the stopwords to get a more better representation of the keywords in the corpus"
      ],
      "metadata": {
        "id": "7skYJkkv76z4"
      }
    },
    {
      "cell_type": "markdown",
      "source": [
        "## <b> Cleaning the text"
      ],
      "metadata": {
        "id": "K7gcLGef8Ys-"
      }
    },
    {
      "cell_type": "code",
      "source": [
        "from nltk.corpus import stopwords\n",
        "nltk.download('stopwords')"
      ],
      "metadata": {
        "colab": {
          "base_uri": "https://localhost:8080/"
        },
        "id": "oMFuju6j7V6q",
        "outputId": "62e232cb-2867-4964-9b95-cdafb3888105"
      },
      "execution_count": 17,
      "outputs": [
        {
          "output_type": "stream",
          "name": "stderr",
          "text": [
            "[nltk_data] Downloading package stopwords to /root/nltk_data...\n",
            "[nltk_data]   Package stopwords is already up-to-date!\n"
          ]
        },
        {
          "output_type": "execute_result",
          "data": {
            "text/plain": [
              "True"
            ]
          },
          "metadata": {},
          "execution_count": 17
        }
      ]
    },
    {
      "cell_type": "code",
      "source": [
        "stop_words = stopwords.words('english')"
      ],
      "metadata": {
        "id": "dJF8nlri87Ho"
      },
      "execution_count": 18,
      "outputs": []
    },
    {
      "cell_type": "code",
      "source": [
        "def clean_text(text):\n",
        "    text = text.lower()\n",
        "    text = re.sub(r'<br />',' ',text)\n",
        "    text = re.sub(r'[^A-Za-z0-9]',' ',text)\n",
        "    text = ' '.join(word for word in text.split() if word not in stop_words)\n",
        "    return text"
      ],
      "metadata": {
        "id": "JuE9f-9K9J8l"
      },
      "execution_count": 19,
      "outputs": []
    },
    {
      "cell_type": "code",
      "source": [
        "train['cleaned_review']=train.review.apply(lambda s:clean_text(s))\n",
        "test['cleaned_review']=test.review.apply(lambda s:clean_text(s))"
      ],
      "metadata": {
        "id": "uxtFr60s91wD"
      },
      "execution_count": 20,
      "outputs": []
    },
    {
      "cell_type": "code",
      "source": [
        "train.head()"
      ],
      "metadata": {
        "colab": {
          "base_uri": "https://localhost:8080/",
          "height": 206
        },
        "id": "RxtOjUWs-Cj5",
        "outputId": "43709d1c-dfcb-42f6-8782-f5518834af56"
      },
      "execution_count": 21,
      "outputs": [
        {
          "output_type": "execute_result",
          "data": {
            "text/plain": [
              "                                                  review sentiment  \\\n",
              "44272  Sure, it had some of the makings of a good fil...  negative   \n",
              "33427  This mini-series is iconic of the Australian s...  positive   \n",
              "36331  When you see the cover of the DVD you're convi...  positive   \n",
              "25718  When I saw this \"documentary\", I was disappoin...  negative   \n",
              "40140  Abysmal Indonesian action film from legendary ...  negative   \n",
              "\n",
              "                                          cleaned_review  \n",
              "44272  sure makings good film storyline good bit blan...  \n",
              "33427  mini series iconic australian spirit may perha...  \n",
              "36331  see cover dvd convinced class b cheesy cheapie...  \n",
              "25718  saw documentary disappointed see serbian propa...  \n",
              "40140  abysmal indonesian action film legendary ariza...  "
            ],
            "text/html": [
              "\n",
              "  <div id=\"df-a8351e40-2a34-43e6-a8b1-ded507c101e8\">\n",
              "    <div class=\"colab-df-container\">\n",
              "      <div>\n",
              "<style scoped>\n",
              "    .dataframe tbody tr th:only-of-type {\n",
              "        vertical-align: middle;\n",
              "    }\n",
              "\n",
              "    .dataframe tbody tr th {\n",
              "        vertical-align: top;\n",
              "    }\n",
              "\n",
              "    .dataframe thead th {\n",
              "        text-align: right;\n",
              "    }\n",
              "</style>\n",
              "<table border=\"1\" class=\"dataframe\">\n",
              "  <thead>\n",
              "    <tr style=\"text-align: right;\">\n",
              "      <th></th>\n",
              "      <th>review</th>\n",
              "      <th>sentiment</th>\n",
              "      <th>cleaned_review</th>\n",
              "    </tr>\n",
              "  </thead>\n",
              "  <tbody>\n",
              "    <tr>\n",
              "      <th>44272</th>\n",
              "      <td>Sure, it had some of the makings of a good fil...</td>\n",
              "      <td>negative</td>\n",
              "      <td>sure makings good film storyline good bit blan...</td>\n",
              "    </tr>\n",
              "    <tr>\n",
              "      <th>33427</th>\n",
              "      <td>This mini-series is iconic of the Australian s...</td>\n",
              "      <td>positive</td>\n",
              "      <td>mini series iconic australian spirit may perha...</td>\n",
              "    </tr>\n",
              "    <tr>\n",
              "      <th>36331</th>\n",
              "      <td>When you see the cover of the DVD you're convi...</td>\n",
              "      <td>positive</td>\n",
              "      <td>see cover dvd convinced class b cheesy cheapie...</td>\n",
              "    </tr>\n",
              "    <tr>\n",
              "      <th>25718</th>\n",
              "      <td>When I saw this \"documentary\", I was disappoin...</td>\n",
              "      <td>negative</td>\n",
              "      <td>saw documentary disappointed see serbian propa...</td>\n",
              "    </tr>\n",
              "    <tr>\n",
              "      <th>40140</th>\n",
              "      <td>Abysmal Indonesian action film from legendary ...</td>\n",
              "      <td>negative</td>\n",
              "      <td>abysmal indonesian action film legendary ariza...</td>\n",
              "    </tr>\n",
              "  </tbody>\n",
              "</table>\n",
              "</div>\n",
              "      <button class=\"colab-df-convert\" onclick=\"convertToInteractive('df-a8351e40-2a34-43e6-a8b1-ded507c101e8')\"\n",
              "              title=\"Convert this dataframe to an interactive table.\"\n",
              "              style=\"display:none;\">\n",
              "        \n",
              "  <svg xmlns=\"http://www.w3.org/2000/svg\" height=\"24px\"viewBox=\"0 0 24 24\"\n",
              "       width=\"24px\">\n",
              "    <path d=\"M0 0h24v24H0V0z\" fill=\"none\"/>\n",
              "    <path d=\"M18.56 5.44l.94 2.06.94-2.06 2.06-.94-2.06-.94-.94-2.06-.94 2.06-2.06.94zm-11 1L8.5 8.5l.94-2.06 2.06-.94-2.06-.94L8.5 2.5l-.94 2.06-2.06.94zm10 10l.94 2.06.94-2.06 2.06-.94-2.06-.94-.94-2.06-.94 2.06-2.06.94z\"/><path d=\"M17.41 7.96l-1.37-1.37c-.4-.4-.92-.59-1.43-.59-.52 0-1.04.2-1.43.59L10.3 9.45l-7.72 7.72c-.78.78-.78 2.05 0 2.83L4 21.41c.39.39.9.59 1.41.59.51 0 1.02-.2 1.41-.59l7.78-7.78 2.81-2.81c.8-.78.8-2.07 0-2.86zM5.41 20L4 18.59l7.72-7.72 1.47 1.35L5.41 20z\"/>\n",
              "  </svg>\n",
              "      </button>\n",
              "      \n",
              "  <style>\n",
              "    .colab-df-container {\n",
              "      display:flex;\n",
              "      flex-wrap:wrap;\n",
              "      gap: 12px;\n",
              "    }\n",
              "\n",
              "    .colab-df-convert {\n",
              "      background-color: #E8F0FE;\n",
              "      border: none;\n",
              "      border-radius: 50%;\n",
              "      cursor: pointer;\n",
              "      display: none;\n",
              "      fill: #1967D2;\n",
              "      height: 32px;\n",
              "      padding: 0 0 0 0;\n",
              "      width: 32px;\n",
              "    }\n",
              "\n",
              "    .colab-df-convert:hover {\n",
              "      background-color: #E2EBFA;\n",
              "      box-shadow: 0px 1px 2px rgba(60, 64, 67, 0.3), 0px 1px 3px 1px rgba(60, 64, 67, 0.15);\n",
              "      fill: #174EA6;\n",
              "    }\n",
              "\n",
              "    [theme=dark] .colab-df-convert {\n",
              "      background-color: #3B4455;\n",
              "      fill: #D2E3FC;\n",
              "    }\n",
              "\n",
              "    [theme=dark] .colab-df-convert:hover {\n",
              "      background-color: #434B5C;\n",
              "      box-shadow: 0px 1px 3px 1px rgba(0, 0, 0, 0.15);\n",
              "      filter: drop-shadow(0px 1px 2px rgba(0, 0, 0, 0.3));\n",
              "      fill: #FFFFFF;\n",
              "    }\n",
              "  </style>\n",
              "\n",
              "      <script>\n",
              "        const buttonEl =\n",
              "          document.querySelector('#df-a8351e40-2a34-43e6-a8b1-ded507c101e8 button.colab-df-convert');\n",
              "        buttonEl.style.display =\n",
              "          google.colab.kernel.accessAllowed ? 'block' : 'none';\n",
              "\n",
              "        async function convertToInteractive(key) {\n",
              "          const element = document.querySelector('#df-a8351e40-2a34-43e6-a8b1-ded507c101e8');\n",
              "          const dataTable =\n",
              "            await google.colab.kernel.invokeFunction('convertToInteractive',\n",
              "                                                     [key], {});\n",
              "          if (!dataTable) return;\n",
              "\n",
              "          const docLinkHtml = 'Like what you see? Visit the ' +\n",
              "            '<a target=\"_blank\" href=https://colab.research.google.com/notebooks/data_table.ipynb>data table notebook</a>'\n",
              "            + ' to learn more about interactive tables.';\n",
              "          element.innerHTML = '';\n",
              "          dataTable['output_type'] = 'display_data';\n",
              "          await google.colab.output.renderOutput(dataTable, element);\n",
              "          const docLink = document.createElement('div');\n",
              "          docLink.innerHTML = docLinkHtml;\n",
              "          element.appendChild(docLink);\n",
              "        }\n",
              "      </script>\n",
              "    </div>\n",
              "  </div>\n",
              "  "
            ]
          },
          "metadata": {},
          "execution_count": 21
        }
      ]
    },
    {
      "cell_type": "markdown",
      "source": [
        "Now, let's check the frequency distribution on the cleaned corpus"
      ],
      "metadata": {
        "id": "f33K1zmC_sfZ"
      }
    },
    {
      "cell_type": "code",
      "source": [
        "cleaned_corpus=' '.join(word for word in train.cleaned_review)"
      ],
      "metadata": {
        "id": "XeZPnqwW-tBW"
      },
      "execution_count": 22,
      "outputs": []
    },
    {
      "cell_type": "code",
      "source": [
        "count_clean = Counter([word for word in cleaned_corpus.split()])"
      ],
      "metadata": {
        "id": "ialkeK6nAABu"
      },
      "execution_count": 23,
      "outputs": []
    },
    {
      "cell_type": "code",
      "source": [
        "ccount_df = pd.DataFrame(count_clean.most_common(10))\n",
        "ccount_df.columns=['word','count']\n",
        "ccount_df.style.background_gradient(cmap='magma_r')"
      ],
      "metadata": {
        "colab": {
          "base_uri": "https://localhost:8080/",
          "height": 363
        },
        "id": "04Pgt6AcAN47",
        "outputId": "23a1223c-7397-4302-9062-ed57a5c3f874"
      },
      "execution_count": 24,
      "outputs": [
        {
          "output_type": "execute_result",
          "data": {
            "text/plain": [
              "<pandas.io.formats.style.Styler at 0x7f3d865bb1d0>"
            ],
            "text/html": [
              "<style type=\"text/css\">\n",
              "#T_91e74_row0_col1 {\n",
              "  background-color: #000004;\n",
              "  color: #f1f1f1;\n",
              "}\n",
              "#T_91e74_row1_col1 {\n",
              "  background-color: #1d1147;\n",
              "  color: #f1f1f1;\n",
              "}\n",
              "#T_91e74_row2_col1 {\n",
              "  background-color: #c23b75;\n",
              "  color: #f1f1f1;\n",
              "}\n",
              "#T_91e74_row3_col1 {\n",
              "  background-color: #fb835f;\n",
              "  color: #f1f1f1;\n",
              "}\n",
              "#T_91e74_row4_col1 {\n",
              "  background-color: #fecd90;\n",
              "  color: #000000;\n",
              "}\n",
              "#T_91e74_row5_col1 {\n",
              "  background-color: #fceeb0;\n",
              "  color: #000000;\n",
              "}\n",
              "#T_91e74_row6_col1 {\n",
              "  background-color: #fcf0b2;\n",
              "  color: #000000;\n",
              "}\n",
              "#T_91e74_row7_col1 {\n",
              "  background-color: #fcf2b4;\n",
              "  color: #000000;\n",
              "}\n",
              "#T_91e74_row8_col1 {\n",
              "  background-color: #fcfbbd;\n",
              "  color: #000000;\n",
              "}\n",
              "#T_91e74_row9_col1 {\n",
              "  background-color: #fcfdbf;\n",
              "  color: #000000;\n",
              "}\n",
              "</style>\n",
              "<table id=\"T_91e74_\" class=\"dataframe\">\n",
              "  <thead>\n",
              "    <tr>\n",
              "      <th class=\"blank level0\" >&nbsp;</th>\n",
              "      <th class=\"col_heading level0 col0\" >word</th>\n",
              "      <th class=\"col_heading level0 col1\" >count</th>\n",
              "    </tr>\n",
              "  </thead>\n",
              "  <tbody>\n",
              "    <tr>\n",
              "      <th id=\"T_91e74_level0_row0\" class=\"row_heading level0 row0\" >0</th>\n",
              "      <td id=\"T_91e74_row0_col0\" class=\"data row0 col0\" >movie</td>\n",
              "      <td id=\"T_91e74_row0_col1\" class=\"data row0 col1\" >58892</td>\n",
              "    </tr>\n",
              "    <tr>\n",
              "      <th id=\"T_91e74_level0_row1\" class=\"row_heading level0 row1\" >1</th>\n",
              "      <td id=\"T_91e74_row1_col0\" class=\"data row1 col0\" >film</td>\n",
              "      <td id=\"T_91e74_row1_col1\" class=\"data row1 col1\" >53395</td>\n",
              "    </tr>\n",
              "    <tr>\n",
              "      <th id=\"T_91e74_level0_row2\" class=\"row_heading level0 row2\" >2</th>\n",
              "      <td id=\"T_91e74_row2_col0\" class=\"data row2 col0\" >one</td>\n",
              "      <td id=\"T_91e74_row2_col1\" class=\"data row2 col1\" >35926</td>\n",
              "    </tr>\n",
              "    <tr>\n",
              "      <th id=\"T_91e74_level0_row3\" class=\"row_heading level0 row3\" >3</th>\n",
              "      <td id=\"T_91e74_row3_col0\" class=\"data row3 col0\" >like</td>\n",
              "      <td id=\"T_91e74_row3_col1\" class=\"data row3 col1\" >26648</td>\n",
              "    </tr>\n",
              "    <tr>\n",
              "      <th id=\"T_91e74_level0_row4\" class=\"row_heading level0 row4\" >4</th>\n",
              "      <td id=\"T_91e74_row4_col0\" class=\"data row4 col0\" >good</td>\n",
              "      <td id=\"T_91e74_row4_col1\" class=\"data row4 col1\" >19910</td>\n",
              "    </tr>\n",
              "    <tr>\n",
              "      <th id=\"T_91e74_level0_row5\" class=\"row_heading level0 row5\" >5</th>\n",
              "      <td id=\"T_91e74_row5_col0\" class=\"data row5 col0\" >time</td>\n",
              "      <td id=\"T_91e74_row5_col1\" class=\"data row5 col1\" >16788</td>\n",
              "    </tr>\n",
              "    <tr>\n",
              "      <th id=\"T_91e74_level0_row6\" class=\"row_heading level0 row6\" >6</th>\n",
              "      <td id=\"T_91e74_row6_col0\" class=\"data row6 col0\" >even</td>\n",
              "      <td id=\"T_91e74_row6_col1\" class=\"data row6 col1\" >16622</td>\n",
              "    </tr>\n",
              "    <tr>\n",
              "      <th id=\"T_91e74_level0_row7\" class=\"row_heading level0 row7\" >7</th>\n",
              "      <td id=\"T_91e74_row7_col0\" class=\"data row7 col0\" >would</td>\n",
              "      <td id=\"T_91e74_row7_col1\" class=\"data row7 col1\" >16501</td>\n",
              "    </tr>\n",
              "    <tr>\n",
              "      <th id=\"T_91e74_level0_row8\" class=\"row_heading level0 row8\" >8</th>\n",
              "      <td id=\"T_91e74_row8_col0\" class=\"data row8 col0\" >story</td>\n",
              "      <td id=\"T_91e74_row8_col1\" class=\"data row8 col1\" >15594</td>\n",
              "    </tr>\n",
              "    <tr>\n",
              "      <th id=\"T_91e74_level0_row9\" class=\"row_heading level0 row9\" >9</th>\n",
              "      <td id=\"T_91e74_row9_col0\" class=\"data row9 col0\" >really</td>\n",
              "      <td id=\"T_91e74_row9_col1\" class=\"data row9 col1\" >15421</td>\n",
              "    </tr>\n",
              "  </tbody>\n",
              "</table>\n"
            ]
          },
          "metadata": {},
          "execution_count": 24
        }
      ]
    },
    {
      "cell_type": "markdown",
      "source": [
        "### Frequency Distribution of Negative Reviews"
      ],
      "metadata": {
        "id": "S7hit7vEELMP"
      }
    },
    {
      "cell_type": "code",
      "source": [
        "neg_reviews = train[train['sentiment']=='negative']\n",
        "pos_reviews = train[train['sentiment']=='positive']"
      ],
      "metadata": {
        "id": "pbiWEKyJAW7w"
      },
      "execution_count": 25,
      "outputs": []
    },
    {
      "cell_type": "code",
      "source": [
        "\n",
        "neg_corpus = ' '.join(word for word in neg_reviews.cleaned_review)\n",
        "count_nclean = Counter([word for word in neg_corpus.split()])\n",
        "ncount_df = pd.DataFrame(count_nclean.most_common(10))\n",
        "ncount_df.columns=['word','count']\n",
        "ncount_df.style.background_gradient(cmap='PuBu')"
      ],
      "metadata": {
        "colab": {
          "base_uri": "https://localhost:8080/",
          "height": 363
        },
        "id": "wjZBvmL_Ebov",
        "outputId": "6a7976c3-b798-452a-b519-ddadc1e555ab"
      },
      "execution_count": 26,
      "outputs": [
        {
          "output_type": "execute_result",
          "data": {
            "text/plain": [
              "<pandas.io.formats.style.Styler at 0x7f3d865cc090>"
            ],
            "text/html": [
              "<style type=\"text/css\">\n",
              "#T_6a40b_row0_col1 {\n",
              "  background-color: #023858;\n",
              "  color: #f1f1f1;\n",
              "}\n",
              "#T_6a40b_row1_col1 {\n",
              "  background-color: #2786bb;\n",
              "  color: #f1f1f1;\n",
              "}\n",
              "#T_6a40b_row2_col1 {\n",
              "  background-color: #a8bedc;\n",
              "  color: #000000;\n",
              "}\n",
              "#T_6a40b_row3_col1 {\n",
              "  background-color: #cacee5;\n",
              "  color: #000000;\n",
              "}\n",
              "#T_6a40b_row4_col1 {\n",
              "  background-color: #f3edf5;\n",
              "  color: #000000;\n",
              "}\n",
              "#T_6a40b_row5_col1 {\n",
              "  background-color: #f5eef6;\n",
              "  color: #000000;\n",
              "}\n",
              "#T_6a40b_row6_col1 {\n",
              "  background-color: #f5eff6;\n",
              "  color: #000000;\n",
              "}\n",
              "#T_6a40b_row7_col1 {\n",
              "  background-color: #f8f1f8;\n",
              "  color: #000000;\n",
              "}\n",
              "#T_6a40b_row8_col1, #T_6a40b_row9_col1 {\n",
              "  background-color: #fff7fb;\n",
              "  color: #000000;\n",
              "}\n",
              "</style>\n",
              "<table id=\"T_6a40b_\" class=\"dataframe\">\n",
              "  <thead>\n",
              "    <tr>\n",
              "      <th class=\"blank level0\" >&nbsp;</th>\n",
              "      <th class=\"col_heading level0 col0\" >word</th>\n",
              "      <th class=\"col_heading level0 col1\" >count</th>\n",
              "    </tr>\n",
              "  </thead>\n",
              "  <tbody>\n",
              "    <tr>\n",
              "      <th id=\"T_6a40b_level0_row0\" class=\"row_heading level0 row0\" >0</th>\n",
              "      <td id=\"T_6a40b_row0_col0\" class=\"data row0 col0\" >movie</td>\n",
              "      <td id=\"T_6a40b_row0_col1\" class=\"data row0 col1\" >33569</td>\n",
              "    </tr>\n",
              "    <tr>\n",
              "      <th id=\"T_6a40b_level0_row1\" class=\"row_heading level0 row1\" >1</th>\n",
              "      <td id=\"T_6a40b_row1_col0\" class=\"data row1 col0\" >film</td>\n",
              "      <td id=\"T_6a40b_row1_col1\" class=\"data row1 col1\" >24956</td>\n",
              "    </tr>\n",
              "    <tr>\n",
              "      <th id=\"T_6a40b_level0_row2\" class=\"row_heading level0 row2\" >2</th>\n",
              "      <td id=\"T_6a40b_row2_col0\" class=\"data row2 col0\" >one</td>\n",
              "      <td id=\"T_6a40b_row2_col1\" class=\"data row2 col1\" >17594</td>\n",
              "    </tr>\n",
              "    <tr>\n",
              "      <th id=\"T_6a40b_level0_row3\" class=\"row_heading level0 row3\" >3</th>\n",
              "      <td id=\"T_6a40b_row3_col0\" class=\"data row3 col0\" >like</td>\n",
              "      <td id=\"T_6a40b_row3_col1\" class=\"data row3 col1\" >15021</td>\n",
              "    </tr>\n",
              "    <tr>\n",
              "      <th id=\"T_6a40b_level0_row4\" class=\"row_heading level0 row4\" >4</th>\n",
              "      <td id=\"T_6a40b_row4_col0\" class=\"data row4 col0\" >even</td>\n",
              "      <td id=\"T_6a40b_row4_col1\" class=\"data row4 col1\" >10213</td>\n",
              "    </tr>\n",
              "    <tr>\n",
              "      <th id=\"T_6a40b_level0_row5\" class=\"row_heading level0 row5\" >5</th>\n",
              "      <td id=\"T_6a40b_row5_col0\" class=\"data row5 col0\" >bad</td>\n",
              "      <td id=\"T_6a40b_row5_col1\" class=\"data row5 col1\" >9994</td>\n",
              "    </tr>\n",
              "    <tr>\n",
              "      <th id=\"T_6a40b_level0_row6\" class=\"row_heading level0 row6\" >6</th>\n",
              "      <td id=\"T_6a40b_row6_col0\" class=\"data row6 col0\" >good</td>\n",
              "      <td id=\"T_6a40b_row6_col1\" class=\"data row6 col1\" >9876</td>\n",
              "    </tr>\n",
              "    <tr>\n",
              "      <th id=\"T_6a40b_level0_row7\" class=\"row_heading level0 row7\" >7</th>\n",
              "      <td id=\"T_6a40b_row7_col0\" class=\"data row7 col0\" >would</td>\n",
              "      <td id=\"T_6a40b_row7_col1\" class=\"data row7 col1\" >9394</td>\n",
              "    </tr>\n",
              "    <tr>\n",
              "      <th id=\"T_6a40b_level0_row8\" class=\"row_heading level0 row8\" >8</th>\n",
              "      <td id=\"T_6a40b_row8_col0\" class=\"data row8 col0\" >really</td>\n",
              "      <td id=\"T_6a40b_row8_col1\" class=\"data row8 col1\" >8258</td>\n",
              "    </tr>\n",
              "    <tr>\n",
              "      <th id=\"T_6a40b_level0_row9\" class=\"row_heading level0 row9\" >9</th>\n",
              "      <td id=\"T_6a40b_row9_col0\" class=\"data row9 col0\" >time</td>\n",
              "      <td id=\"T_6a40b_row9_col1\" class=\"data row9 col1\" >8224</td>\n",
              "    </tr>\n",
              "  </tbody>\n",
              "</table>\n"
            ]
          },
          "metadata": {},
          "execution_count": 26
        }
      ]
    },
    {
      "cell_type": "markdown",
      "source": [
        "### Frequency Distribution of Positive Reviews"
      ],
      "metadata": {
        "id": "A9IhAk68HSPP"
      }
    },
    {
      "cell_type": "code",
      "source": [
        "pos_corpus = ' '.join(word for word in pos_reviews.cleaned_review)\n",
        "count_pclean = Counter([word for word in pos_corpus.split()])\n",
        "pcount_df = pd.DataFrame(count_pclean.most_common(10))\n",
        "pcount_df.columns=['word','count']\n",
        "pcount_df.style.background_gradient(cmap='Oranges')"
      ],
      "metadata": {
        "colab": {
          "base_uri": "https://localhost:8080/",
          "height": 363
        },
        "id": "QDUHs5IGFVN3",
        "outputId": "700276c3-54e5-477f-a29a-484761a89aba"
      },
      "execution_count": 27,
      "outputs": [
        {
          "output_type": "execute_result",
          "data": {
            "text/plain": [
              "<pandas.io.formats.style.Styler at 0x7f3d865df750>"
            ],
            "text/html": [
              "<style type=\"text/css\">\n",
              "#T_15f78_row0_col1 {\n",
              "  background-color: #7f2704;\n",
              "  color: #f1f1f1;\n",
              "}\n",
              "#T_15f78_row1_col1 {\n",
              "  background-color: #b13a03;\n",
              "  color: #f1f1f1;\n",
              "}\n",
              "#T_15f78_row2_col1 {\n",
              "  background-color: #fd8c3b;\n",
              "  color: #f1f1f1;\n",
              "}\n",
              "#T_15f78_row3_col1 {\n",
              "  background-color: #fedebf;\n",
              "  color: #000000;\n",
              "}\n",
              "#T_15f78_row4_col1 {\n",
              "  background-color: #feead6;\n",
              "  color: #000000;\n",
              "}\n",
              "#T_15f78_row5_col1 {\n",
              "  background-color: #fff2e5;\n",
              "  color: #000000;\n",
              "}\n",
              "#T_15f78_row6_col1, #T_15f78_row7_col1 {\n",
              "  background-color: #fff3e6;\n",
              "  color: #000000;\n",
              "}\n",
              "#T_15f78_row8_col1 {\n",
              "  background-color: #fff4e8;\n",
              "  color: #000000;\n",
              "}\n",
              "#T_15f78_row9_col1 {\n",
              "  background-color: #fff5eb;\n",
              "  color: #000000;\n",
              "}\n",
              "</style>\n",
              "<table id=\"T_15f78_\" class=\"dataframe\">\n",
              "  <thead>\n",
              "    <tr>\n",
              "      <th class=\"blank level0\" >&nbsp;</th>\n",
              "      <th class=\"col_heading level0 col0\" >word</th>\n",
              "      <th class=\"col_heading level0 col1\" >count</th>\n",
              "    </tr>\n",
              "  </thead>\n",
              "  <tbody>\n",
              "    <tr>\n",
              "      <th id=\"T_15f78_level0_row0\" class=\"row_heading level0 row0\" >0</th>\n",
              "      <td id=\"T_15f78_row0_col0\" class=\"data row0 col0\" >film</td>\n",
              "      <td id=\"T_15f78_row0_col1\" class=\"data row0 col1\" >28439</td>\n",
              "    </tr>\n",
              "    <tr>\n",
              "      <th id=\"T_15f78_level0_row1\" class=\"row_heading level0 row1\" >1</th>\n",
              "      <td id=\"T_15f78_row1_col0\" class=\"data row1 col0\" >movie</td>\n",
              "      <td id=\"T_15f78_row1_col1\" class=\"data row1 col1\" >25323</td>\n",
              "    </tr>\n",
              "    <tr>\n",
              "      <th id=\"T_15f78_level0_row2\" class=\"row_heading level0 row2\" >2</th>\n",
              "      <td id=\"T_15f78_row2_col0\" class=\"data row2 col0\" >one</td>\n",
              "      <td id=\"T_15f78_row2_col1\" class=\"data row2 col1\" >18332</td>\n",
              "    </tr>\n",
              "    <tr>\n",
              "      <th id=\"T_15f78_level0_row3\" class=\"row_heading level0 row3\" >3</th>\n",
              "      <td id=\"T_15f78_row3_col0\" class=\"data row3 col0\" >like</td>\n",
              "      <td id=\"T_15f78_row3_col1\" class=\"data row3 col1\" >11627</td>\n",
              "    </tr>\n",
              "    <tr>\n",
              "      <th id=\"T_15f78_level0_row4\" class=\"row_heading level0 row4\" >4</th>\n",
              "      <td id=\"T_15f78_row4_col0\" class=\"data row4 col0\" >good</td>\n",
              "      <td id=\"T_15f78_row4_col1\" class=\"data row4 col1\" >10034</td>\n",
              "    </tr>\n",
              "    <tr>\n",
              "      <th id=\"T_15f78_level0_row5\" class=\"row_heading level0 row5\" >5</th>\n",
              "      <td id=\"T_15f78_row5_col0\" class=\"data row5 col0\" >story</td>\n",
              "      <td id=\"T_15f78_row5_col1\" class=\"data row5 col1\" >8709</td>\n",
              "    </tr>\n",
              "    <tr>\n",
              "      <th id=\"T_15f78_level0_row6\" class=\"row_heading level0 row6\" >6</th>\n",
              "      <td id=\"T_15f78_row6_col0\" class=\"data row6 col0\" >great</td>\n",
              "      <td id=\"T_15f78_row6_col1\" class=\"data row6 col1\" >8622</td>\n",
              "    </tr>\n",
              "    <tr>\n",
              "      <th id=\"T_15f78_level0_row7\" class=\"row_heading level0 row7\" >7</th>\n",
              "      <td id=\"T_15f78_row7_col0\" class=\"data row7 col0\" >time</td>\n",
              "      <td id=\"T_15f78_row7_col1\" class=\"data row7 col1\" >8564</td>\n",
              "    </tr>\n",
              "    <tr>\n",
              "      <th id=\"T_15f78_level0_row8\" class=\"row_heading level0 row8\" >8</th>\n",
              "      <td id=\"T_15f78_row8_col0\" class=\"data row8 col0\" >well</td>\n",
              "      <td id=\"T_15f78_row8_col1\" class=\"data row8 col1\" >8453</td>\n",
              "    </tr>\n",
              "    <tr>\n",
              "      <th id=\"T_15f78_level0_row9\" class=\"row_heading level0 row9\" >9</th>\n",
              "      <td id=\"T_15f78_row9_col0\" class=\"data row9 col0\" >see</td>\n",
              "      <td id=\"T_15f78_row9_col1\" class=\"data row9 col1\" >8152</td>\n",
              "    </tr>\n",
              "  </tbody>\n",
              "</table>\n"
            ]
          },
          "metadata": {},
          "execution_count": 27
        }
      ]
    },
    {
      "cell_type": "markdown",
      "source": [
        "We can't see much of trends from the frequency distributions of negative and positive reviews"
      ],
      "metadata": {
        "id": "-y0sl13xHW6B"
      }
    },
    {
      "cell_type": "markdown",
      "source": [
        "##<b> Train-validation split"
      ],
      "metadata": {
        "id": "YmSPE7r07Ox4"
      }
    },
    {
      "cell_type": "code",
      "source": [
        "lb=LabelBinarizer()\n",
        "train['sentiment']=lb.fit_transform(train['sentiment'])\n",
        "test['sentiment']=lb.transform(test['sentiment'])"
      ],
      "metadata": {
        "id": "rGI6qBYC8Mln"
      },
      "execution_count": 28,
      "outputs": []
    },
    {
      "cell_type": "code",
      "source": [
        "y_test=lb.transform(y_test)"
      ],
      "metadata": {
        "id": "FiFb4UW0V3Hb"
      },
      "execution_count": 53,
      "outputs": []
    },
    {
      "cell_type": "code",
      "source": [
        "X_train, X_val, y_train, y_val = train_test_split(train['cleaned_review'], train['sentiment'], test_size=0.2, random_state=333)"
      ],
      "metadata": {
        "id": "DTzEw8Q57VVw"
      },
      "execution_count": 29,
      "outputs": []
    },
    {
      "cell_type": "markdown",
      "source": [
        "##<b> BOW and TFIDF"
      ],
      "metadata": {
        "id": "MkG4DQ3HKZqS"
      }
    },
    {
      "cell_type": "code",
      "source": [
        "cv = CountVectorizer(max_df=0.9,min_df=2,ngram_range=(1,3),stop_words=stop_words)\n",
        "X_train_bow = cv.fit_transform(X_train)"
      ],
      "metadata": {
        "id": "ZvOe3ZuQFrLA"
      },
      "execution_count": 30,
      "outputs": []
    },
    {
      "cell_type": "code",
      "source": [
        "X_val_bow = cv.transform(X_val)"
      ],
      "metadata": {
        "id": "3udgBYK_8DUO"
      },
      "execution_count": 31,
      "outputs": []
    },
    {
      "cell_type": "code",
      "source": [
        "X_test_bow = cv.transform(X_test)"
      ],
      "metadata": {
        "id": "D1HuBU8q9WzV"
      },
      "execution_count": 32,
      "outputs": []
    },
    {
      "cell_type": "code",
      "source": [
        "X_train_bow"
      ],
      "metadata": {
        "colab": {
          "base_uri": "https://localhost:8080/"
        },
        "id": "nGqBwuW48JnS",
        "outputId": "bd7053f9-1fd3-44c4-a896-cbfacfa99097"
      },
      "execution_count": 33,
      "outputs": [
        {
          "output_type": "execute_result",
          "data": {
            "text/plain": [
              "<26800x449849 sparse matrix of type '<class 'numpy.int64'>'\n",
              "\twith 4340889 stored elements in Compressed Sparse Row format>"
            ]
          },
          "metadata": {},
          "execution_count": 33
        }
      ]
    },
    {
      "cell_type": "code",
      "source": [
        "tfidf = TfidfVectorizer(max_df=0.9,min_df=2,ngram_range=(1,3),stop_words=stop_words)\n",
        "X_train_tfidf = tfidf.fit_transform(X_train)"
      ],
      "metadata": {
        "id": "ULgzHOICSCzp"
      },
      "execution_count": 45,
      "outputs": []
    },
    {
      "cell_type": "code",
      "source": [
        "X_val_tfidf = tfidf.transform(X_val)\n",
        "X_test_tfidf = tfidf.transform(X_test)"
      ],
      "metadata": {
        "id": "6zbLRBDnSPc8"
      },
      "execution_count": 46,
      "outputs": []
    },
    {
      "cell_type": "markdown",
      "source": [
        "## <b> Building models on BOW"
      ],
      "metadata": {
        "id": "RJTUs1l68T6o"
      }
    },
    {
      "cell_type": "markdown",
      "source": [
        "###1. Logistic Regression"
      ],
      "metadata": {
        "id": "yGsE9Ybq8dvX"
      }
    },
    {
      "cell_type": "code",
      "source": [
        "lr=LogisticRegression(max_iter=1000)\n",
        "lr_fit = lr.fit(X_train_bow,y_train)"
      ],
      "metadata": {
        "id": "s4lGvItO9d2U"
      },
      "execution_count": 34,
      "outputs": []
    },
    {
      "cell_type": "code",
      "source": [
        "pred_lr = lr.predict(X_val_bow)"
      ],
      "metadata": {
        "id": "04Tm6Lau-ALD"
      },
      "execution_count": 35,
      "outputs": []
    },
    {
      "cell_type": "code",
      "source": [
        "pred_lr = lr.predict(X_val_bow)"
      ],
      "metadata": {
        "id": "ptmOphbT9lJ4"
      },
      "execution_count": 36,
      "outputs": []
    },
    {
      "cell_type": "code",
      "source": [
        "accuracy_score(y_val,pred_lr)"
      ],
      "metadata": {
        "colab": {
          "base_uri": "https://localhost:8080/"
        },
        "id": "adbrzGHV-ZFd",
        "outputId": "34d777af-a22a-4d41-8e76-b4db68d2ade1"
      },
      "execution_count": 37,
      "outputs": [
        {
          "output_type": "execute_result",
          "data": {
            "text/plain": [
              "0.8913432835820896"
            ]
          },
          "metadata": {},
          "execution_count": 37
        }
      ]
    },
    {
      "cell_type": "markdown",
      "source": [
        "### 2. MLP Classifier"
      ],
      "metadata": {
        "id": "qyYxgQp__miN"
      }
    },
    {
      "cell_type": "code",
      "source": [
        "mlp = MLPClassifier()\n",
        "mlp.fit(X_train_bow,y_train)\n",
        "\n",
        "pred_mlp = mlp.predict(X_val_bow)"
      ],
      "metadata": {
        "colab": {
          "base_uri": "https://localhost:8080/"
        },
        "id": "MAamPU2d-ei1",
        "outputId": "03ed664b-b21c-40cc-eb1a-431b79a465b2"
      },
      "execution_count": 40,
      "outputs": [
        {
          "output_type": "stream",
          "name": "stderr",
          "text": [
            "/usr/local/lib/python3.7/dist-packages/sklearn/neural_network/_multilayer_perceptron.py:699: UserWarning: Training interrupted by user.\n",
            "  warnings.warn(\"Training interrupted by user.\")\n"
          ]
        }
      ]
    },
    {
      "cell_type": "code",
      "source": [
        "accuracy_score(y_val,pred_mlp)"
      ],
      "metadata": {
        "colab": {
          "base_uri": "https://localhost:8080/"
        },
        "id": "M5LAva-U_-bg",
        "outputId": "791b679c-5279-49bf-8ca6-55d9feed77c7"
      },
      "execution_count": 41,
      "outputs": [
        {
          "output_type": "execute_result",
          "data": {
            "text/plain": [
              "0.9007462686567164"
            ]
          },
          "metadata": {},
          "execution_count": 41
        }
      ]
    },
    {
      "cell_type": "markdown",
      "source": [
        "### 3. Gradient Boosting"
      ],
      "metadata": {
        "id": "Wu-4GFWQBhcW"
      }
    },
    {
      "cell_type": "code",
      "source": [
        "gb=GradientBoostingClassifier()\n",
        "gb.fit(X_train_bow,y_train)\n",
        "\n",
        "pred_gb = gb.predict(X_val_bow)"
      ],
      "metadata": {
        "id": "1jt2PmW5BlW0"
      },
      "execution_count": 42,
      "outputs": []
    },
    {
      "cell_type": "code",
      "source": [
        "accuracy_score(y_val,pred_gb)"
      ],
      "metadata": {
        "colab": {
          "base_uri": "https://localhost:8080/"
        },
        "id": "exixOjdiByUZ",
        "outputId": "b5267a8a-24d1-442f-c619-2babb1683e20"
      },
      "execution_count": 43,
      "outputs": [
        {
          "output_type": "execute_result",
          "data": {
            "text/plain": [
              "0.8071641791044776"
            ]
          },
          "metadata": {},
          "execution_count": 43
        }
      ]
    },
    {
      "cell_type": "markdown",
      "source": [
        "## <b>Building models on TFIDF"
      ],
      "metadata": {
        "id": "bgne7t5eR5Vx"
      }
    },
    {
      "cell_type": "markdown",
      "source": [
        "### 1. Logistic Regression"
      ],
      "metadata": {
        "id": "dhGldhx5SyPN"
      }
    },
    {
      "cell_type": "code",
      "source": [
        "lr=LogisticRegression(max_iter=1000)\n",
        "lr_fit = lr.fit(X_train_tfidf,y_train)"
      ],
      "metadata": {
        "id": "35Vf9753R_9e"
      },
      "execution_count": 47,
      "outputs": []
    },
    {
      "cell_type": "code",
      "source": [
        "pred_lr_tfidf = lr.predict(X_val_tfidf)"
      ],
      "metadata": {
        "id": "Z7LGS1QjS-6Q"
      },
      "execution_count": 48,
      "outputs": []
    },
    {
      "cell_type": "code",
      "source": [
        "accuracy_score(y_val,pred_lr_tfidf)"
      ],
      "metadata": {
        "colab": {
          "base_uri": "https://localhost:8080/"
        },
        "id": "f62Pgmd_TDfK",
        "outputId": "52340961-d0c2-49e8-ed82-bd10da951028"
      },
      "execution_count": 49,
      "outputs": [
        {
          "output_type": "execute_result",
          "data": {
            "text/plain": [
              "0.8877611940298508"
            ]
          },
          "metadata": {},
          "execution_count": 49
        }
      ]
    },
    {
      "cell_type": "code",
      "source": [
        "gb=GradientBoostingClassifier()\n",
        "gb.fit(X_train_tfidf,y_train)\n",
        "\n",
        "pred_gb_tfidf = gb.predict(X_val_tfidf)"
      ],
      "metadata": {
        "id": "ovqlzSEBTGti"
      },
      "execution_count": 50,
      "outputs": []
    },
    {
      "cell_type": "code",
      "source": [
        "accuracy_score(y_val,pred_gb_tfidf)"
      ],
      "metadata": {
        "colab": {
          "base_uri": "https://localhost:8080/"
        },
        "id": "xxuSo-1lTS8H",
        "outputId": "881763cf-87c1-4a9f-ce1b-ef1e7f9bd115"
      },
      "execution_count": 51,
      "outputs": [
        {
          "output_type": "execute_result",
          "data": {
            "text/plain": [
              "0.8091044776119403"
            ]
          },
          "metadata": {},
          "execution_count": 51
        }
      ]
    },
    {
      "cell_type": "markdown",
      "source": [
        "## <b>Evaluation on Test set"
      ],
      "metadata": {
        "id": "Rm-Mj28yVO0E"
      }
    },
    {
      "cell_type": "code",
      "source": [
        "test_pred_lr=lr.predict(X_test_tfidf)\n",
        "accuracy_score(y_test,test_pred_lr)"
      ],
      "metadata": {
        "colab": {
          "base_uri": "https://localhost:8080/"
        },
        "id": "sdMdT9dXVS0G",
        "outputId": "4eec0b6d-6cbe-4811-b5bb-a9c590efdc28"
      },
      "execution_count": 54,
      "outputs": [
        {
          "output_type": "execute_result",
          "data": {
            "text/plain": [
              "0.891090909090909"
            ]
          },
          "metadata": {},
          "execution_count": 54
        }
      ]
    },
    {
      "cell_type": "code",
      "source": [
        "test_pred_gb_tfidf = gb.predict(X_test_tfidf)\n",
        "accuracy_score(y_test,test_pred_gb_tfidf)"
      ],
      "metadata": {
        "colab": {
          "base_uri": "https://localhost:8080/"
        },
        "id": "0qxw5nemVxxS",
        "outputId": "2c94afbb-74d2-4541-ad82-ccc509a61e70"
      },
      "execution_count": 55,
      "outputs": [
        {
          "output_type": "execute_result",
          "data": {
            "text/plain": [
              "0.808060606060606"
            ]
          },
          "metadata": {},
          "execution_count": 55
        }
      ]
    },
    {
      "cell_type": "code",
      "source": [
        ""
      ],
      "metadata": {
        "id": "SCA2x142WKp_"
      },
      "execution_count": null,
      "outputs": []
    }
  ]
}