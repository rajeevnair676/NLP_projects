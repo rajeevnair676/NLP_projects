{
  "nbformat": 4,
  "nbformat_minor": 0,
  "metadata": {
    "colab": {
      "provenance": [],
      "collapsed_sections": [],
      "mount_file_id": "1PbQAB2r16dYQ0RXgQyBuNCqXTRp_ZHHB",
      "authorship_tag": "ABX9TyMDalETIiBKR7/wv4jtpuWL",
      "include_colab_link": true
    },
    "kernelspec": {
      "name": "python3",
      "display_name": "Python 3"
    },
    "language_info": {
      "name": "python"
    },
    "accelerator": "GPU",
    "gpuClass": "standard"
  },
  "cells": [
    {
      "cell_type": "markdown",
      "metadata": {
        "id": "view-in-github",
        "colab_type": "text"
      },
      "source": [
        "<a href=\"https://colab.research.google.com/github/rajeevnair676/NLP_projects/blob/main/IMDB_review_with_BERT.ipynb\" target=\"_parent\"><img src=\"https://colab.research.google.com/assets/colab-badge.svg\" alt=\"Open In Colab\"/></a>"
      ]
    },
    {
      "cell_type": "code",
      "source": [
        "!pip install transformers"
      ],
      "metadata": {
        "id": "uXTGG7qMKNRs",
        "colab": {
          "base_uri": "https://localhost:8080/"
        },
        "outputId": "4c156a82-127a-48cd-ef14-a1c5c99a1920"
      },
      "execution_count": null,
      "outputs": [
        {
          "output_type": "stream",
          "name": "stdout",
          "text": [
            "Looking in indexes: https://pypi.org/simple, https://us-python.pkg.dev/colab-wheels/public/simple/\n",
            "Requirement already satisfied: transformers in /usr/local/lib/python3.7/dist-packages (4.21.2)\n",
            "Requirement already satisfied: huggingface-hub<1.0,>=0.1.0 in /usr/local/lib/python3.7/dist-packages (from transformers) (0.9.1)\n",
            "Requirement already satisfied: importlib-metadata in /usr/local/lib/python3.7/dist-packages (from transformers) (4.12.0)\n",
            "Requirement already satisfied: tqdm>=4.27 in /usr/local/lib/python3.7/dist-packages (from transformers) (4.64.0)\n",
            "Requirement already satisfied: regex!=2019.12.17 in /usr/local/lib/python3.7/dist-packages (from transformers) (2022.6.2)\n",
            "Requirement already satisfied: pyyaml>=5.1 in /usr/local/lib/python3.7/dist-packages (from transformers) (6.0)\n",
            "Requirement already satisfied: filelock in /usr/local/lib/python3.7/dist-packages (from transformers) (3.8.0)\n",
            "Requirement already satisfied: numpy>=1.17 in /usr/local/lib/python3.7/dist-packages (from transformers) (1.21.6)\n",
            "Requirement already satisfied: requests in /usr/local/lib/python3.7/dist-packages (from transformers) (2.23.0)\n",
            "Requirement already satisfied: tokenizers!=0.11.3,<0.13,>=0.11.1 in /usr/local/lib/python3.7/dist-packages (from transformers) (0.12.1)\n",
            "Requirement already satisfied: packaging>=20.0 in /usr/local/lib/python3.7/dist-packages (from transformers) (21.3)\n",
            "Requirement already satisfied: typing-extensions>=3.7.4.3 in /usr/local/lib/python3.7/dist-packages (from huggingface-hub<1.0,>=0.1.0->transformers) (4.1.1)\n",
            "Requirement already satisfied: pyparsing!=3.0.5,>=2.0.2 in /usr/local/lib/python3.7/dist-packages (from packaging>=20.0->transformers) (3.0.9)\n",
            "Requirement already satisfied: zipp>=0.5 in /usr/local/lib/python3.7/dist-packages (from importlib-metadata->transformers) (3.8.1)\n",
            "Requirement already satisfied: urllib3!=1.25.0,!=1.25.1,<1.26,>=1.21.1 in /usr/local/lib/python3.7/dist-packages (from requests->transformers) (1.24.3)\n",
            "Requirement already satisfied: idna<3,>=2.5 in /usr/local/lib/python3.7/dist-packages (from requests->transformers) (2.10)\n",
            "Requirement already satisfied: certifi>=2017.4.17 in /usr/local/lib/python3.7/dist-packages (from requests->transformers) (2022.6.15)\n",
            "Requirement already satisfied: chardet<4,>=3.0.2 in /usr/local/lib/python3.7/dist-packages (from requests->transformers) (3.0.4)\n"
          ]
        }
      ]
    },
    {
      "cell_type": "code",
      "execution_count": null,
      "metadata": {
        "id": "xBoOHTGdE83c"
      },
      "outputs": [],
      "source": [
        "import pandas as pd\n",
        "import numpy as np\n",
        "import tensorflow as tf\n",
        "import nltk\n",
        "import re\n",
        "import os\n",
        "\n",
        "from sklearn.model_selection import train_test_split\n",
        "from sklearn.preprocessing import LabelBinarizer\n",
        "from sklearn.metrics import accuracy_score,classification_report,roc_auc_score\n",
        "\n",
        "import transformers\n",
        "from transformers import DistilBertTokenizer,TFDistilBertModel\n",
        "\n",
        "from keras.layers import Input,Dense\n",
        "from keras.models import Model\n",
        "from tensorflow.keras.optimizers import Adam"
      ]
    },
    {
      "cell_type": "code",
      "source": [
        "# import tensorflow as tf\n",
        "# print(\"Tensorflow version \" + tf.__version__)\n",
        "\n",
        "# try:\n",
        "#   tpu = tf.distribute.cluster_resolver.TPUClusterResolver()  # TPU detection\n",
        "#   print('Running on TPU ', tpu.cluster_spec().as_dict()['worker'])\n",
        "# except ValueError:\n",
        "#   raise BaseException('ERROR: Not connected to a TPU runtime; please see the previous cell in this notebook for instructions!')\n",
        "\n",
        "# tf.config.experimental_connect_to_cluster(tpu)\n",
        "# tf.tpu.experimental.initialize_tpu_system(tpu)\n",
        "# tpu_strategy = tf.distribute.experimental.TPUStrategy(tpu)"
      ],
      "metadata": {
        "id": "xydQ4Z4eWldT"
      },
      "execution_count": null,
      "outputs": []
    },
    {
      "cell_type": "code",
      "source": [
        "# #Get a handle to the attached TPU. On GCP it will be the CloudTPU itself\n",
        "# resolver = tf.distribute.cluster_resolver.TPUClusterResolver()#(tpu='grpc://' + os.environ['COLAB_TPU_ADDR'])\n",
        "\n",
        "# #Connect to the TPU handle and initialise it\n",
        "# tf.config.experimental_connect_to_cluster(resolver)\n",
        "# tf.tpu.experimental.initialize_tpu_system(resolver)"
      ],
      "metadata": {
        "id": "DWpnu_FtG8h2"
      },
      "execution_count": null,
      "outputs": []
    },
    {
      "cell_type": "code",
      "source": [
        "# strategy = tf.distribute.experimental.TPUStrategy(resolver)"
      ],
      "metadata": {
        "id": "BmpoDP56HxXH"
      },
      "execution_count": null,
      "outputs": []
    },
    {
      "cell_type": "code",
      "source": [
        "PATH = '/content/drive/MyDrive/NLP/NLP_projects/Classification/IMDB_review_classification/IMDB Dataset.csv'"
      ],
      "metadata": {
        "id": "xokLmf6IFR37"
      },
      "execution_count": null,
      "outputs": []
    },
    {
      "cell_type": "code",
      "source": [
        "def load_data(path):\n",
        "    df = pd.read_csv(path)\n",
        "    X_train, X_test, y_train, y_test = train_test_split(df['review'], df['sentiment'], stratify=df['sentiment'],\n",
        "                                                    test_size=0.33,\n",
        "                                                    shuffle=True, \n",
        "                                                    random_state=42)\n",
        "    train = pd.concat([X_train,y_train],axis=1)\n",
        "    test = pd.concat([X_test,y_test],axis=1)\n",
        "    return train,test"
      ],
      "metadata": {
        "id": "47xuBV45FUTr"
      },
      "execution_count": null,
      "outputs": []
    },
    {
      "cell_type": "code",
      "source": [
        "train,test=load_data(PATH)"
      ],
      "metadata": {
        "id": "wBghY37UFX81"
      },
      "execution_count": null,
      "outputs": []
    },
    {
      "cell_type": "code",
      "source": [
        "def clean_text(text):\n",
        "    text = text.lower()\n",
        "    text = re.sub(r'<br />',' ',text)\n",
        "    text = re.sub(r'[^A-Za-z0-9]',' ',text)\n",
        "    text = ' '.join(word for word in text.split())\n",
        "    return text"
      ],
      "metadata": {
        "id": "l12XCiKWFYm9"
      },
      "execution_count": null,
      "outputs": []
    },
    {
      "cell_type": "code",
      "source": [
        "train['cleaned_review']=train.review.apply(lambda s:clean_text(s))\n",
        "test['cleaned_review']=test.review.apply(lambda s:clean_text(s))"
      ],
      "metadata": {
        "id": "clrC9M4tJSIQ"
      },
      "execution_count": null,
      "outputs": []
    },
    {
      "cell_type": "code",
      "source": [
        "lb=LabelBinarizer()\n",
        "train['sentiment']=lb.fit_transform(train['sentiment'])\n",
        "test['sentiment']=lb.transform(test['sentiment'])"
      ],
      "metadata": {
        "id": "xyN2k6b-JSkG"
      },
      "execution_count": null,
      "outputs": []
    },
    {
      "cell_type": "code",
      "source": [
        "max_len = train['cleaned_review'].apply(lambda s: len(str(s).split())).max()"
      ],
      "metadata": {
        "id": "3zW1aTmJZrI8"
      },
      "execution_count": null,
      "outputs": []
    },
    {
      "cell_type": "code",
      "source": [
        "max_len"
      ],
      "metadata": {
        "colab": {
          "base_uri": "https://localhost:8080/"
        },
        "id": "vd7IilldcWW-",
        "outputId": "917651a5-abd0-4510-8d5a-85f1831338f3"
      },
      "execution_count": null,
      "outputs": [
        {
          "output_type": "execute_result",
          "data": {
            "text/plain": [
              "2505"
            ]
          },
          "metadata": {},
          "execution_count": 13
        }
      ]
    },
    {
      "cell_type": "code",
      "source": [
        "X_train, X_val, y_train, y_val = train_test_split(train['cleaned_review'], train['sentiment'],\n",
        "                                                  stratify=train['sentiment'],\n",
        "                                                  test_size=0.2,\n",
        "                                                  random_state=333)"
      ],
      "metadata": {
        "id": "QEIM6d_bJU3v"
      },
      "execution_count": null,
      "outputs": []
    },
    {
      "cell_type": "markdown",
      "source": [
        "## Tokenizing with DistilBerttokenizer"
      ],
      "metadata": {
        "id": "JSyW4lfxTMmb"
      }
    },
    {
      "cell_type": "code",
      "source": [
        "tokenizer = DistilBertTokenizer.from_pretrained('distilbert-base-uncased')\n",
        "\n",
        "Xtrain = tokenizer(text=list(X_train),\n",
        "                    truncation=True,\n",
        "                    add_special_tokens=True,\n",
        "                    padding=True,\n",
        "                    return_tensors='tf',\n",
        "                    return_token_type_ids = False,\n",
        "                    return_attention_mask=True,\n",
        "                    verbose=True\n",
        "                    )\n",
        "\n",
        "Xval = tokenizer(text=list(X_val),\n",
        "                    truncation=True,\n",
        "                    add_special_tokens=True,\n",
        "                    padding=True,\n",
        "                    return_tensors='tf',\n",
        "                    return_token_type_ids = False,\n",
        "                    return_attention_mask=True,\n",
        "                    verbose=True\n",
        "                    )"
      ],
      "metadata": {
        "id": "WoW0a1LgTEeS"
      },
      "execution_count": null,
      "outputs": []
    },
    {
      "cell_type": "code",
      "source": [
        "Xtrain"
      ],
      "metadata": {
        "colab": {
          "base_uri": "https://localhost:8080/"
        },
        "id": "CsClGjLHVng_",
        "outputId": "3fb188e7-d179-49ce-d319-de5f450c6113"
      },
      "execution_count": null,
      "outputs": [
        {
          "output_type": "execute_result",
          "data": {
            "text/plain": [
              "{'input_ids': <tf.Tensor: shape=(26800, 512), dtype=int32, numpy=\n",
              "array([[  101,  1996, 12610, ...,     0,     0,     0],\n",
              "       [  101,  1999,  1037, ...,     0,     0,     0],\n",
              "       [  101,  1037,  3689, ...,  2001,  8836,   102],\n",
              "       ...,\n",
              "       [  101,  1045,  2572, ...,     0,     0,     0],\n",
              "       [  101,  2066,  2116, ...,  2336,  1055,   102],\n",
              "       [  101,  1045,  2320, ...,     0,     0,     0]], dtype=int32)>, 'attention_mask': <tf.Tensor: shape=(26800, 512), dtype=int32, numpy=\n",
              "array([[1, 1, 1, ..., 0, 0, 0],\n",
              "       [1, 1, 1, ..., 0, 0, 0],\n",
              "       [1, 1, 1, ..., 1, 1, 1],\n",
              "       ...,\n",
              "       [1, 1, 1, ..., 0, 0, 0],\n",
              "       [1, 1, 1, ..., 1, 1, 1],\n",
              "       [1, 1, 1, ..., 0, 0, 0]], dtype=int32)>}"
            ]
          },
          "metadata": {},
          "execution_count": 28
        }
      ]
    },
    {
      "cell_type": "code",
      "source": [
        "input_ids = Xtrain['input_ids']\n",
        "attention_mask = Xtrain['attention_mask']"
      ],
      "metadata": {
        "id": "VQPL0RB5cLdE"
      },
      "execution_count": null,
      "outputs": []
    },
    {
      "cell_type": "markdown",
      "source": [
        "## Model building with DistilBert"
      ],
      "metadata": {
        "id": "9Oyy2YRUZXg9"
      }
    },
    {
      "cell_type": "code",
      "source": [
        "bert = TFDistilBertModel.from_pretrained('distilbert-base-uncased')"
      ],
      "metadata": {
        "colab": {
          "base_uri": "https://localhost:8080/"
        },
        "id": "j0zZuhxabAuB",
        "outputId": "9b5d0720-2bfd-452b-b26a-da79f23b9e2a"
      },
      "execution_count": null,
      "outputs": [
        {
          "output_type": "stream",
          "name": "stderr",
          "text": [
            "Some layers from the model checkpoint at distilbert-base-uncased were not used when initializing TFDistilBertModel: ['vocab_layer_norm', 'activation_13', 'vocab_transform', 'vocab_projector']\n",
            "- This IS expected if you are initializing TFDistilBertModel from the checkpoint of a model trained on another task or with another architecture (e.g. initializing a BertForSequenceClassification model from a BertForPreTraining model).\n",
            "- This IS NOT expected if you are initializing TFDistilBertModel from the checkpoint of a model that you expect to be exactly identical (initializing a BertForSequenceClassification model from a BertForSequenceClassification model).\n",
            "All the layers of TFDistilBertModel were initialized from the model checkpoint at distilbert-base-uncased.\n",
            "If your task is similar to the task the model of the checkpoint was trained on, you can already use TFDistilBertModel for predictions without further training.\n"
          ]
        }
      ]
    },
    {
      "cell_type": "code",
      "source": [
        "input_ids = Input(shape=(512,),\n",
        "                  dtype='int32',\n",
        "                  name='input_ids')\n",
        "input_mask = Input(shape=(512,),\n",
        "                   dtype='int32',\n",
        "                   name='attention_mask')\n",
        "\n",
        "embeddings=bert(input_ids,attention_mask=input_mask)[0]\n",
        "\n",
        "cls_token=embeddings[:,0,:]\n",
        "\n",
        "outs=Dense(1, activation='sigmoid')(cls_token)\n",
        "\n",
        "model=Model(inputs=[input_ids,input_mask],\n",
        "            outputs=outs)\n",
        "\n",
        "model.summary()"
      ],
      "metadata": {
        "colab": {
          "base_uri": "https://localhost:8080/"
        },
        "id": "waA10LJFYhSI",
        "outputId": "5460675c-7752-4873-fc26-ec34915edf50"
      },
      "execution_count": null,
      "outputs": [
        {
          "output_type": "stream",
          "name": "stdout",
          "text": [
            "Model: \"model_2\"\n",
            "__________________________________________________________________________________________________\n",
            " Layer (type)                   Output Shape         Param #     Connected to                     \n",
            "==================================================================================================\n",
            " input_ids (InputLayer)         [(None, 512)]        0           []                               \n",
            "                                                                                                  \n",
            " attention_mask (InputLayer)    [(None, 512)]        0           []                               \n",
            "                                                                                                  \n",
            " tf_distil_bert_model (TFDistil  multiple            66362880    ['input_ids[0][0]',              \n",
            " BertModel)                                                       'attention_mask[0][0]']         \n",
            "                                                                                                  \n",
            " tf.__operators__.getitem_2 (Sl  (None, 768)         0           ['tf_distil_bert_model[2][0]']   \n",
            " icingOpLambda)                                                                                   \n",
            "                                                                                                  \n",
            " dense_2 (Dense)                (None, 1)            769         ['tf.__operators__.getitem_2[0][0\n",
            "                                                                 ]']                              \n",
            "                                                                                                  \n",
            "==================================================================================================\n",
            "Total params: 66,363,649\n",
            "Trainable params: 66,363,649\n",
            "Non-trainable params: 0\n",
            "__________________________________________________________________________________________________\n"
          ]
        }
      ]
    },
    {
      "cell_type": "code",
      "source": [
        "optimizer=Adam(learning_rate=5e-5,\n",
        "               decay=1e-6)\n",
        "model.compile(loss='binary_crossentropy',\n",
        "              optimizer=optimizer,\n",
        "              metrics=['accuracy'])"
      ],
      "metadata": {
        "id": "auKmsWTidgeL"
      },
      "execution_count": null,
      "outputs": []
    },
    {
      "cell_type": "code",
      "source": [
        "history = model.fit(\n",
        "            x={'input_ids':Xtrain['input_ids'],'attention_mask':Xtrain['attention_mask']},\n",
        "            y=y_train,\n",
        "            validation_data=({'input_ids':Xval['input_ids'],'attention_mask':Xval['attention_mask']}),\n",
        "            epochs=3,\n",
        "            batch_size=8\n",
        "            )"
      ],
      "metadata": {
        "colab": {
          "base_uri": "https://localhost:8080/"
        },
        "id": "dUzzRA4NePBW",
        "outputId": "bdc20025-4ee6-4965-aade-ce16cc816fe6"
      },
      "execution_count": null,
      "outputs": [
        {
          "output_type": "stream",
          "name": "stdout",
          "text": [
            "Epoch 1/3\n",
            "3350/3350 [==============================] - 1568s 467ms/step - loss: 0.2704 - accuracy: 0.8901 - val_loss: 0.0000e+00 - val_accuracy: 0.0000e+00\n",
            "Epoch 2/3\n",
            "3350/3350 [==============================] - 1563s 466ms/step - loss: 0.1397 - accuracy: 0.9487 - val_loss: 0.0000e+00 - val_accuracy: 0.0000e+00\n",
            "Epoch 3/3\n",
            "3350/3350 [==============================] - 1561s 466ms/step - loss: 0.0731 - accuracy: 0.9740 - val_loss: 0.0000e+00 - val_accuracy: 0.0000e+00\n"
          ]
        }
      ]
    },
    {
      "cell_type": "code",
      "source": [
        "model.save(\"/content/drive/MyDrive/NLP/NLP_projects/Classification/IMDB_review_classification/bert_model\")"
      ],
      "metadata": {
        "colab": {
          "base_uri": "https://localhost:8080/"
        },
        "id": "Xgq_Wxlo40YM",
        "outputId": "5b70b9a6-4465-4b15-be25-5ff5fff96c4a"
      },
      "execution_count": null,
      "outputs": [
        {
          "output_type": "stream",
          "name": "stderr",
          "text": [
            "WARNING:tensorflow:Skipping full serialization of Keras layer <keras.layers.core.dropout.Dropout object at 0x7f18e06b9d90>, because it is not built.\n",
            "WARNING:tensorflow:Skipping full serialization of Keras layer <keras.layers.core.dropout.Dropout object at 0x7f18e09f5c50>, because it is not built.\n",
            "WARNING:tensorflow:Skipping full serialization of Keras layer <keras.layers.core.dropout.Dropout object at 0x7f18e0a16850>, because it is not built.\n",
            "WARNING:tensorflow:Skipping full serialization of Keras layer <keras.layers.core.dropout.Dropout object at 0x7f18e08dd6d0>, because it is not built.\n",
            "WARNING:tensorflow:Skipping full serialization of Keras layer <keras.layers.core.dropout.Dropout object at 0x7f18e08b65d0>, because it is not built.\n",
            "WARNING:tensorflow:Skipping full serialization of Keras layer <keras.layers.core.dropout.Dropout object at 0x7f18e08d3450>, because it is not built.\n",
            "WARNING:absl:Found untraced functions such as embeddings_layer_call_fn, embeddings_layer_call_and_return_conditional_losses, transformer_layer_call_fn, transformer_layer_call_and_return_conditional_losses, LayerNorm_layer_call_fn while saving (showing 5 of 164). These functions will not be directly callable after loading.\n"
          ]
        }
      ]
    }
  ]
}